{
 "cells": [
  {
   "cell_type": "code",
   "execution_count": 2,
   "metadata": {},
   "outputs": [],
   "source": [
    "# Must be included at the beginning of each new notebook. Remember to change the app name.\n",
    "import findspark\n",
    "findspark.init('/home/ubuntu/spark-2.1.1-bin-hadoop2.7')\n",
    "import pyspark\n",
    "from pyspark.sql import SparkSession\n",
    "spark = SparkSession.builder.appName('GuangzhouPM_Explore').getOrCreate()"
   ]
  },
  {
   "cell_type": "code",
   "execution_count": 3,
   "metadata": {},
   "outputs": [],
   "source": [
    "# Let's read in the data. Note that it's in the format of csv.\n",
    "GuangzhouPM = spark.read.csv('i4_Dataset/GuangzhouPM20100101_20151231.csv', inferSchema=True, header=True)"
   ]
  },
  {
   "cell_type": "code",
   "execution_count": 4,
   "metadata": {},
   "outputs": [
    {
     "name": "stdout",
     "output_type": "stream",
     "text": [
      "+---+----+-----+---+----+------+---------------+--------------------+----------+----+----+------+----+----+---+-------------+-----+\n",
      "| No|year|month|day|hour|season|PM_City Station|PM_5th Middle School|PM_US Post|DEWP|HUMI|  PRES|TEMP|cbwd|Iws|precipitation|Iprec|\n",
      "+---+----+-----+---+----+------+---------------+--------------------+----------+----+----+------+----+----+---+-------------+-----+\n",
      "|  1|2010|    1|  1|   0|     4|             NA|                  NA|        NA| 9.4|  76|1015.1|13.5|  NW|0.8|            0|    0|\n",
      "|  2|2010|    1|  1|   1|     4|             NA|                  NA|        NA|10.2|  83|1015.2|  13|  cv|0.5|            0|    0|\n",
      "|  3|2010|    1|  1|   2|     4|             NA|                  NA|        NA|10.4|  87|  1015|12.5|  NW|0.6|          0.3|  0.3|\n",
      "|  4|2010|    1|  1|   3|     4|             NA|                  NA|        NA|10.2|  89|1014.9|  12|  NW|1.4|          0.6|  0.9|\n",
      "|  5|2010|    1|  1|   4|     4|             NA|                  NA|        NA|10.4|  91|1014.6|11.8|  NE|0.6|          0.7|  1.6|\n",
      "|  6|2010|    1|  1|   5|     4|             NA|                  NA|        NA|10.3|  91|1014.4|11.7|  NW|1.4|          0.3|  1.9|\n",
      "|  7|2010|    1|  1|   6|     4|             NA|                  NA|        NA|  10|  90|1014.8|11.6|  NW|2.5|            0|    0|\n",
      "|  8|2010|    1|  1|   7|     4|             NA|                  NA|        NA|10.4|  91|1015.3|11.8|  NW|3.7|            0|    0|\n",
      "|  9|2010|    1|  1|   8|     4|             NA|                  NA|        NA|10.3|  89|1015.3|12.1|  NE|1.2|            0|    0|\n",
      "| 10|2010|    1|  1|   9|     4|             NA|                  NA|        NA|10.5|  86|1015.9|12.8|  NW|1.2|            0|    0|\n",
      "| 11|2010|    1|  1|  10|     4|             NA|                  NA|        NA|10.9|  83|  1016|13.7|  NE|0.9|            0|    0|\n",
      "| 12|2010|    1|  1|  11|     4|             NA|                  NA|        NA|10.8|  82|  1016|13.8|  SE|0.6|            0|    0|\n",
      "| 13|2010|    1|  1|  12|     4|             NA|                  NA|        NA|10.7|  78|1015.3|14.5|  NE|0.9|            0|    0|\n",
      "| 14|2010|    1|  1|  13|     4|             NA|                  NA|        NA|10.9|  75|1013.8|15.3|  NE|  2|            0|    0|\n",
      "| 15|2010|    1|  1|  14|     4|             NA|                  NA|        NA|10.8|  74|1012.3|15.4|  NE|3.3|            0|    0|\n",
      "| 16|2010|    1|  1|  15|     4|             NA|                  NA|        NA|10.8|  71|1011.6|16.1|  NE|4.6|            0|    0|\n",
      "| 17|2010|    1|  1|  16|     4|             NA|                  NA|        NA|  11|  73|1011.8|15.8|  NE|5.3|            0|    0|\n",
      "| 18|2010|    1|  1|  17|     4|             NA|                  NA|        NA|11.5|  77|1012.2|15.5|  NW|0.8|            0|    0|\n",
      "| 19|2010|    1|  1|  18|     4|             NA|                  NA|        NA|11.8|  81|1012.2|  15|  cv|  0|            0|    0|\n",
      "| 20|2010|    1|  1|  19|     4|             NA|                  NA|        NA|12.1|  84|1012.4|14.8|  NE|0.7|            0|    0|\n",
      "+---+----+-----+---+----+------+---------------+--------------------+----------+----+----+------+----+----+---+-------------+-----+\n",
      "only showing top 20 rows\n",
      "\n"
     ]
    }
   ],
   "source": [
    "# Data Exploration\n",
    "# Visualise DataFrames by using show method to see how many columns in the dataset\n",
    "GuangzhouPM.show()"
   ]
  },
  {
   "cell_type": "code",
   "execution_count": 5,
   "metadata": {},
   "outputs": [
    {
     "name": "stdout",
     "output_type": "stream",
     "text": [
      "+-------+-----------------+------------------+-----------------+-----------------+-----------------+------------------+-----------------+--------------------+-----------------+------------------+-----------------+-----------------+------------------+-----+------------------+-------------------+------------------+\n",
      "|summary|               No|              year|            month|              day|             hour|            season|  PM_City Station|PM_5th Middle School|       PM_US Post|              DEWP|             HUMI|             PRES|              TEMP| cbwd|               Iws|      precipitation|             Iprec|\n",
      "+-------+-----------------+------------------+-----------------+-----------------+-----------------+------------------+-----------------+--------------------+-----------------+------------------+-----------------+-----------------+------------------+-----+------------------+-------------------+------------------+\n",
      "|  count|            52584|             52584|            52584|            52584|            52584|             52584|            52584|               52584|            52584|             52584|            52584|            52584|             52584|52584|             52584|              52584|             52584|\n",
      "|   mean|          26292.5|2012.4997717937015|6.523961661341853|15.72660885440438|             11.5|2.4910712587718464|50.80393793273986|  49.064138421426875|50.80393793273986|16.472690792963487|75.84677557385467|1005.369260016632|21.996150847056754| null| 7.633037291238043|0.24123956418894482|1.0867637837560562|\n",
      "| stddev|15179.83761441472| 1.707484980622167| 3.44845248072986| 8.79889584170772|6.922252373644327|1.1169793555646175|36.92747381990495|   30.67796733720997|36.92747381990495|  87.6651414426093|89.51002570133457|6.917953022272494| 6.782722314099913| null|11.965554155096838| 1.9410276110138125|  7.44167895328208|\n",
      "|    min|                1|              2010|                1|                1|                0|                 1|                1|                  10|                1|              -0.1|            -9999|             1000|               1.7|   NA|                 0|                  0|                 0|\n",
      "|    max|            52584|              2015|               12|               31|               23|                NA|               NA|                  NA|               NA|                NA|               NA|               NA|                NA|   cv|                NA|                 NA|                NA|\n",
      "+-------+-----------------+------------------+-----------------+-----------------+-----------------+------------------+-----------------+--------------------+-----------------+------------------+-----------------+-----------------+------------------+-----+------------------+-------------------+------------------+\n",
      "\n"
     ]
    }
   ],
   "source": [
    "# Show general statistics on the data. \n",
    "GuangzhouPM.describe().show()"
   ]
  },
  {
   "cell_type": "code",
   "execution_count": 6,
   "metadata": {},
   "outputs": [
    {
     "name": "stdout",
     "output_type": "stream",
     "text": [
      "root\n",
      " |-- No: integer (nullable = true)\n",
      " |-- year: integer (nullable = true)\n",
      " |-- month: integer (nullable = true)\n",
      " |-- day: integer (nullable = true)\n",
      " |-- hour: integer (nullable = true)\n",
      " |-- season: string (nullable = true)\n",
      " |-- PM_City Station: string (nullable = true)\n",
      " |-- PM_5th Middle School: string (nullable = true)\n",
      " |-- PM_US Post: string (nullable = true)\n",
      " |-- DEWP: string (nullable = true)\n",
      " |-- HUMI: string (nullable = true)\n",
      " |-- PRES: string (nullable = true)\n",
      " |-- TEMP: string (nullable = true)\n",
      " |-- cbwd: string (nullable = true)\n",
      " |-- Iws: string (nullable = true)\n",
      " |-- precipitation: string (nullable = true)\n",
      " |-- Iprec: string (nullable = true)\n",
      "\n"
     ]
    }
   ],
   "source": [
    "# Show the data type for each variable using print schema. \n",
    "GuangzhouPM.printSchema()"
   ]
  },
  {
   "cell_type": "code",
   "execution_count": 7,
   "metadata": {},
   "outputs": [
    {
     "name": "stdout",
     "output_type": "stream",
     "text": [
      "+---------------+------+\n",
      "|PM_City Station|season|\n",
      "+---------------+------+\n",
      "|             NA|     4|\n",
      "|             NA|     4|\n",
      "|             NA|     4|\n",
      "|             NA|     4|\n",
      "|             NA|     4|\n",
      "|             NA|     4|\n",
      "|             NA|     4|\n",
      "|             NA|     4|\n",
      "|             NA|     4|\n",
      "|             NA|     4|\n",
      "|             NA|     4|\n",
      "|             NA|     4|\n",
      "|             NA|     4|\n",
      "|             NA|     4|\n",
      "|             NA|     4|\n",
      "|             NA|     4|\n",
      "|             NA|     4|\n",
      "|             NA|     4|\n",
      "|             NA|     4|\n",
      "|             NA|     4|\n",
      "+---------------+------+\n",
      "only showing top 20 rows\n",
      "\n"
     ]
    }
   ],
   "source": [
    "GuangzhouPM.select('PM_City Station','season').show()"
   ]
  },
  {
   "cell_type": "code",
   "execution_count": 8,
   "metadata": {
    "scrolled": true
   },
   "outputs": [
    {
     "name": "stdout",
     "output_type": "stream",
     "text": [
      "+------+\n",
      "|season|\n",
      "+------+\n",
      "|     4|\n",
      "|     4|\n",
      "|     4|\n",
      "|     4|\n",
      "|     4|\n",
      "|     4|\n",
      "|     4|\n",
      "|     4|\n",
      "|     4|\n",
      "|     4|\n",
      "|     4|\n",
      "|     4|\n",
      "|     4|\n",
      "|     4|\n",
      "|     4|\n",
      "|     4|\n",
      "|     4|\n",
      "|     4|\n",
      "|     4|\n",
      "|     4|\n",
      "+------+\n",
      "only showing top 20 rows\n",
      "\n"
     ]
    }
   ],
   "source": [
    "GuangzhouPM.createOrReplaceTempView('GuangzhouPM')\n",
    "results = spark.sql(\"SELECT season FROM GuangzhouPM\")\n",
    "results.show()"
   ]
  },
  {
   "cell_type": "code",
   "execution_count": 9,
   "metadata": {
    "scrolled": true
   },
   "outputs": [
    {
     "name": "stdout",
     "output_type": "stream",
     "text": [
      "+------+\n",
      "|season|\n",
      "+------+\n",
      "|     4|\n",
      "|     4|\n",
      "|     4|\n",
      "|     4|\n",
      "|     4|\n",
      "|     4|\n",
      "|     4|\n",
      "|     4|\n",
      "|     4|\n",
      "|     4|\n",
      "|     4|\n",
      "|     4|\n",
      "|     4|\n",
      "|     4|\n",
      "|     4|\n",
      "|     4|\n",
      "|     4|\n",
      "|     4|\n",
      "|     4|\n",
      "|     4|\n",
      "+------+\n",
      "only showing top 20 rows\n",
      "\n"
     ]
    }
   ],
   "source": [
    "results.show()"
   ]
  },
  {
   "cell_type": "code",
   "execution_count": 10,
   "metadata": {},
   "outputs": [
    {
     "data": {
      "text/plain": [
       "['No',\n",
       " 'year',\n",
       " 'month',\n",
       " 'day',\n",
       " 'hour',\n",
       " 'season',\n",
       " 'PM_City Station',\n",
       " 'PM_5th Middle School',\n",
       " 'PM_US Post',\n",
       " 'DEWP',\n",
       " 'HUMI',\n",
       " 'PRES',\n",
       " 'TEMP',\n",
       " 'cbwd',\n",
       " 'Iws',\n",
       " 'precipitation',\n",
       " 'Iprec']"
      ]
     },
     "execution_count": 10,
     "metadata": {},
     "output_type": "execute_result"
    }
   ],
   "source": [
    "GuangzhouPM.columns"
   ]
  },
  {
   "cell_type": "code",
   "execution_count": 11,
   "metadata": {},
   "outputs": [],
   "source": [
    "from pyspark.sql.types import (StructField,StringType,IntegerType,StructType)"
   ]
  },
  {
   "cell_type": "code",
   "execution_count": 12,
   "metadata": {},
   "outputs": [],
   "source": [
    "data_schema = [StructField('PM_City Station',IntegerType(),True)]\n",
    "\n",
    "final_struct = StructType(fields=data_schema)"
   ]
  },
  {
   "cell_type": "code",
   "execution_count": 13,
   "metadata": {},
   "outputs": [
    {
     "name": "stdout",
     "output_type": "stream",
     "text": [
      "root\n",
      " |-- PM_City Station: integer (nullable = true)\n",
      "\n"
     ]
    }
   ],
   "source": [
    "df = spark.read.csv('i4_Dataset/GuangzhouPM20100101_20151231.csv', schema=final_struct)\n",
    "\n",
    "df.printSchema()"
   ]
  },
  {
   "cell_type": "code",
   "execution_count": 14,
   "metadata": {},
   "outputs": [],
   "source": [
    "import matplotlib.pyplot as plt"
   ]
  },
  {
   "cell_type": "code",
   "execution_count": 15,
   "metadata": {},
   "outputs": [],
   "source": [
    "import numpy as np "
   ]
  },
  {
   "cell_type": "code",
   "execution_count": null,
   "metadata": {},
   "outputs": [],
   "source": []
  }
 ],
 "metadata": {
  "kernelspec": {
   "display_name": "Python 3",
   "language": "python",
   "name": "python3"
  },
  "language_info": {
   "codemirror_mode": {
    "name": "ipython",
    "version": 3
   },
   "file_extension": ".py",
   "mimetype": "text/x-python",
   "name": "python",
   "nbconvert_exporter": "python",
   "pygments_lexer": "ipython3",
   "version": "3.5.2"
  }
 },
 "nbformat": 4,
 "nbformat_minor": 2
}
