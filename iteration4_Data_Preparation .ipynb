{
 "cells": [
  {
   "cell_type": "code",
   "execution_count": 1,
   "metadata": {},
   "outputs": [],
   "source": [
    "# Must be included at the beginning of each new notebook. Remember to change the app name.\n",
    "import findspark\n",
    "findspark.init('/home/ubuntu/spark-2.1.1-bin-hadoop2.7')\n",
    "import pyspark\n",
    "from pyspark.sql import SparkSession\n",
    "spark = SparkSession.builder.appName('GuangzhouPM_Explore').getOrCreate()"
   ]
  },
  {
   "cell_type": "code",
   "execution_count": 2,
   "metadata": {},
   "outputs": [],
   "source": [
    "# Let's read in the data. Note that it's in the format of csv.\n",
    "GuangzhouPM = spark.read.csv('i4_Dataset/GuangzhouPM20100101_20151231.csv', inferSchema=True, header=True)"
   ]
  },
  {
   "cell_type": "code",
   "execution_count": 3,
   "metadata": {},
   "outputs": [
    {
     "name": "stdout",
     "output_type": "stream",
     "text": [
      "+---+----+-----+---+----+------+---------------+--------------------+----------+----+----+------+----+----+---+-------------+-----+\n",
      "| No|year|month|day|hour|season|PM_City Station|PM_5th Middle School|PM_US Post|DEWP|HUMI|  PRES|TEMP|cbwd|Iws|precipitation|Iprec|\n",
      "+---+----+-----+---+----+------+---------------+--------------------+----------+----+----+------+----+----+---+-------------+-----+\n",
      "|  1|2010|    1|  1|   0|     4|           null|                null|      null| 9.4|  76|1015.1|13.5|  NW|0.8|          0.0|  0.0|\n",
      "|  2|2010|    1|  1|   1|     4|           null|                null|      null|10.2|  83|1015.2|13.0|  cv|0.5|          0.0|  0.0|\n",
      "|  3|2010|    1|  1|   2|     4|           null|                null|      null|10.4|  87|1015.0|12.5|  NW|0.6|          0.3|  0.3|\n",
      "|  4|2010|    1|  1|   3|     4|           null|                null|      null|10.2|  89|1014.9|12.0|  NW|1.4|          0.6|  0.9|\n",
      "|  5|2010|    1|  1|   4|     4|           null|                null|      null|10.4|  91|1014.6|11.8|  NE|0.6|          0.7|  1.6|\n",
      "|  6|2010|    1|  1|   5|     4|           null|                null|      null|10.3|  91|1014.4|11.7|  NW|1.4|          0.3|  1.9|\n",
      "|  7|2010|    1|  1|   6|     4|           null|                null|      null|10.0|  90|1014.8|11.6|  NW|2.5|          0.0|  0.0|\n",
      "|  8|2010|    1|  1|   7|     4|           null|                null|      null|10.4|  91|1015.3|11.8|  NW|3.7|          0.0|  0.0|\n",
      "|  9|2010|    1|  1|   8|     4|           null|                null|      null|10.3|  89|1015.3|12.1|  NE|1.2|          0.0|  0.0|\n",
      "| 10|2010|    1|  1|   9|     4|           null|                null|      null|10.5|  86|1015.9|12.8|  NW|1.2|          0.0|  0.0|\n",
      "| 11|2010|    1|  1|  10|     4|           null|                null|      null|10.9|  83|1016.0|13.7|  NE|0.9|          0.0|  0.0|\n",
      "| 12|2010|    1|  1|  11|     4|           null|                null|      null|10.8|  82|1016.0|13.8|  SE|0.6|          0.0|  0.0|\n",
      "| 13|2010|    1|  1|  12|     4|           null|                null|      null|10.7|  78|1015.3|14.5|  NE|0.9|          0.0|  0.0|\n",
      "| 14|2010|    1|  1|  13|     4|           null|                null|      null|10.9|  75|1013.8|15.3|  NE|2.0|          0.0|  0.0|\n",
      "| 15|2010|    1|  1|  14|     4|           null|                null|      null|10.8|  74|1012.3|15.4|  NE|3.3|          0.0|  0.0|\n",
      "| 16|2010|    1|  1|  15|     4|           null|                null|      null|10.8|  71|1011.6|16.1|  NE|4.6|          0.0|  0.0|\n",
      "| 17|2010|    1|  1|  16|     4|           null|                null|      null|11.0|  73|1011.8|15.8|  NE|5.3|          0.0|  0.0|\n",
      "| 18|2010|    1|  1|  17|     4|           null|                null|      null|11.5|  77|1012.2|15.5|  NW|0.8|          0.0|  0.0|\n",
      "| 19|2010|    1|  1|  18|     4|           null|                null|      null|11.8|  81|1012.2|15.0|  cv|0.0|          0.0|  0.0|\n",
      "| 20|2010|    1|  1|  19|     4|           null|                null|      null|12.1|  84|1012.4|14.8|  NE|0.7|          0.0|  0.0|\n",
      "+---+----+-----+---+----+------+---------------+--------------------+----------+----+----+------+----+----+---+-------------+-----+\n",
      "only showing top 20 rows\n",
      "\n"
     ]
    }
   ],
   "source": [
    "# Data Exploration\n",
    "# Visualise DataFrames by using show method to see how many columns in the dataset\n",
    "GuangzhouPM.show()"
   ]
  },
  {
   "cell_type": "code",
   "execution_count": 4,
   "metadata": {},
   "outputs": [
    {
     "name": "stdout",
     "output_type": "stream",
     "text": [
      "root\n",
      " |-- No: integer (nullable = true)\n",
      " |-- year: integer (nullable = true)\n",
      " |-- month: integer (nullable = true)\n",
      " |-- day: integer (nullable = true)\n",
      " |-- hour: integer (nullable = true)\n",
      " |-- season: integer (nullable = true)\n",
      " |-- PM_City Station: integer (nullable = true)\n",
      " |-- PM_5th Middle School: integer (nullable = true)\n",
      " |-- PM_US Post: integer (nullable = true)\n",
      " |-- DEWP: double (nullable = true)\n",
      " |-- HUMI: integer (nullable = true)\n",
      " |-- PRES: double (nullable = true)\n",
      " |-- TEMP: double (nullable = true)\n",
      " |-- cbwd: string (nullable = true)\n",
      " |-- Iws: double (nullable = true)\n",
      " |-- precipitation: double (nullable = true)\n",
      " |-- Iprec: double (nullable = true)\n",
      "\n"
     ]
    }
   ],
   "source": [
    "GuangzhouPM.printSchema()"
   ]
  },
  {
   "cell_type": "code",
   "execution_count": 5,
   "metadata": {},
   "outputs": [
    {
     "name": "stdout",
     "output_type": "stream",
     "text": [
      "+-------+-----------------+------------------+-----------------+-----------------+-----------------+------------------+-----------------+--------------------+-----------------+------------------+-----------------+-----------------+------------------+-----+------------------+-------------------+------------------+\n",
      "|summary|               No|              year|            month|              day|             hour|            season|  PM_City Station|PM_5th Middle School|       PM_US Post|              DEWP|             HUMI|             PRES|              TEMP| cbwd|               Iws|      precipitation|             Iprec|\n",
      "+-------+-----------------+------------------+-----------------+-----------------+-----------------+------------------+-----------------+--------------------+-----------------+------------------+-----------------+-----------------+------------------+-----+------------------+-------------------+------------------+\n",
      "|  count|            52584|             52584|            52584|            52584|            52584|             52583|            32352|               21095|            32352|             52583|            52583|            52583|             52583|52583|             52583|              52583|             52583|\n",
      "|   mean|          26292.5|2012.4997717937015|6.523961661341853|15.72660885440438|             11.5|2.4910712587718464|50.80393793273986|  49.064138421426875|50.80393793273986|16.472690792963487|75.84677557385467|1005.369260016632|21.996150847056754| null| 7.633037291238043|0.24123956418894482|1.0867637837560562|\n",
      "| stddev|15179.83761441472| 1.707484980622167| 3.44845248072986| 8.79889584170772|6.922252373644327|1.1169793555646175|36.92747381990495|   30.67796733720997|36.92747381990495|  87.6651414426093|89.51002570133457|6.917953022272494| 6.782722314099913| null|11.965554155096838| 1.9410276110138125|  7.44167895328208|\n",
      "|    min|                1|              2010|                1|                1|                0|                 1|                1|                   2|                1|           -9999.0|            -9999|            975.0|               1.7|   NE|               0.0|                0.0|               0.0|\n",
      "|    max|            52584|              2015|               12|               31|               23|                 4|              526|                 940|              526|              27.5|              100|           1027.8|       37.40000153|   cv|             214.3|               99.1|             271.9|\n",
      "+-------+-----------------+------------------+-----------------+-----------------+-----------------+------------------+-----------------+--------------------+-----------------+------------------+-----------------+-----------------+------------------+-----+------------------+-------------------+------------------+\n",
      "\n"
     ]
    }
   ],
   "source": [
    "GuangzhouPM.describe().show()"
   ]
  },
  {
   "cell_type": "code",
   "execution_count": 6,
   "metadata": {},
   "outputs": [
    {
     "name": "stdout",
     "output_type": "stream",
     "text": [
      "+---------------+\n",
      "|PM_City Station|\n",
      "+---------------+\n",
      "|           null|\n",
      "|           null|\n",
      "|           null|\n",
      "|           null|\n",
      "|           null|\n",
      "|           null|\n",
      "|           null|\n",
      "|           null|\n",
      "|           null|\n",
      "|           null|\n",
      "|           null|\n",
      "|           null|\n",
      "|           null|\n",
      "|           null|\n",
      "|           null|\n",
      "|           null|\n",
      "|           null|\n",
      "|           null|\n",
      "|           null|\n",
      "|           null|\n",
      "+---------------+\n",
      "only showing top 20 rows\n",
      "\n"
     ]
    }
   ],
   "source": [
    "GuangzhouPM.select('PM_City Station').show()"
   ]
  },
  {
   "cell_type": "code",
   "execution_count": 7,
   "metadata": {},
   "outputs": [
    {
     "name": "stdout",
     "output_type": "stream",
     "text": [
      "+---------------+\n",
      "|PM_City Station|\n",
      "+---------------+\n",
      "|           null|\n",
      "|           null|\n",
      "|           null|\n",
      "|           null|\n",
      "|           null|\n",
      "|           null|\n",
      "|           null|\n",
      "|           null|\n",
      "|           null|\n",
      "|           null|\n",
      "|           null|\n",
      "|           null|\n",
      "|           null|\n",
      "|           null|\n",
      "|           null|\n",
      "|           null|\n",
      "|           null|\n",
      "|           null|\n",
      "|           null|\n",
      "|           null|\n",
      "+---------------+\n",
      "only showing top 20 rows\n",
      "\n"
     ]
    }
   ],
   "source": [
    "PM_Column = GuangzhouPM.select('PM_City Station')\n",
    "PM_Column.show()"
   ]
  },
  {
   "cell_type": "code",
   "execution_count": 8,
   "metadata": {
    "scrolled": false
   },
   "outputs": [
    {
     "name": "stdout",
     "output_type": "stream",
     "text": [
      "+-------+-----------------+-----------------+------------------+-----+\n",
      "|summary|               No|  PM_City Station|            season| cbwd|\n",
      "+-------+-----------------+-----------------+------------------+-----+\n",
      "|  count|            52584|            32352|             52583|52583|\n",
      "|   mean|          26292.5|50.80393793273986|2.4910712587718464| null|\n",
      "| stddev|15179.83761441472|36.92747381990495|1.1169793555646175| null|\n",
      "|    min|                1|                1|                 1|   NE|\n",
      "|    max|            52584|              526|                 4|   cv|\n",
      "+-------+-----------------+-----------------+------------------+-----+\n",
      "\n"
     ]
    }
   ],
   "source": [
    "GuangzhouPM.describe().select('summary','No','PM_City Station','season','cbwd').show()"
   ]
  },
  {
   "cell_type": "code",
   "execution_count": 9,
   "metadata": {},
   "outputs": [
    {
     "name": "stdout",
     "output_type": "stream",
     "text": [
      "+-------+-----+-----+-----+-----+-----+------+---------------+--------------------+----------+-----+-----+-----+-----+-----+-----+-------------+-----+\n",
      "|summary|   No| year|month|  day| hour|season|PM_City Station|PM_5th Middle School|PM_US Post| DEWP| HUMI| PRES| TEMP| cbwd|  Iws|precipitation|Iprec|\n",
      "+-------+-----+-----+-----+-----+-----+------+---------------+--------------------+----------+-----+-----+-----+-----+-----+-----+-------------+-----+\n",
      "|  count|52584|52584|52584|52584|52584| 52583|          32352|               21095|     32352|52583|52583|52583|52583|52583|52583|        52583|52583|\n",
      "+-------+-----+-----+-----+-----+-----+------+---------------+--------------------+----------+-----+-----+-----+-----+-----+-----+-------------+-----+\n",
      "\n"
     ]
    }
   ],
   "source": [
    "from pyspark.sql.functions import col\n",
    "GuangzhouPM.describe().filter(col(\"summary\") == \"count\").show()\n"
   ]
  },
  {
   "cell_type": "code",
   "execution_count": 10,
   "metadata": {},
   "outputs": [
    {
     "data": {
      "text/plain": [
       "52584"
      ]
     },
     "execution_count": 10,
     "metadata": {},
     "output_type": "execute_result"
    }
   ],
   "source": [
    "GuangzhouPM.count()"
   ]
  },
  {
   "cell_type": "code",
   "execution_count": 11,
   "metadata": {},
   "outputs": [
    {
     "name": "stdout",
     "output_type": "stream",
     "text": [
      "+----+---------------+\n",
      "|year|PM_City Station|\n",
      "+----+---------------+\n",
      "|2010|           null|\n",
      "|2010|           null|\n",
      "|2010|           null|\n",
      "|2010|           null|\n",
      "|2010|           null|\n",
      "|2010|           null|\n",
      "|2010|           null|\n",
      "|2010|           null|\n",
      "|2010|           null|\n",
      "|2010|           null|\n",
      "|2010|           null|\n",
      "|2010|           null|\n",
      "|2010|           null|\n",
      "|2010|           null|\n",
      "|2010|           null|\n",
      "|2010|           null|\n",
      "|2010|           null|\n",
      "|2010|           null|\n",
      "|2010|           null|\n",
      "|2010|           null|\n",
      "+----+---------------+\n",
      "only showing top 20 rows\n",
      "\n"
     ]
    }
   ],
   "source": [
    "PM_Column = GuangzhouPM.select('year','PM_City Station')\n",
    "PM_Column.show()"
   ]
  },
  {
   "cell_type": "code",
   "execution_count": 12,
   "metadata": {},
   "outputs": [
    {
     "name": "stdout",
     "output_type": "stream",
     "text": [
      "+---------------+--------------------+----------+\n",
      "|PM_City Station|PM_5th Middle School|PM_US Post|\n",
      "+---------------+--------------------+----------+\n",
      "|           null|                null|      null|\n",
      "|           null|                null|      null|\n",
      "|           null|                null|      null|\n",
      "|           null|                null|      null|\n",
      "|           null|                null|      null|\n",
      "|           null|                null|      null|\n",
      "|           null|                null|      null|\n",
      "|           null|                null|      null|\n",
      "|           null|                null|      null|\n",
      "|           null|                null|      null|\n",
      "|           null|                null|      null|\n",
      "|           null|                null|      null|\n",
      "|           null|                null|      null|\n",
      "|           null|                null|      null|\n",
      "|           null|                null|      null|\n",
      "|           null|                null|      null|\n",
      "|           null|                null|      null|\n",
      "|           null|                null|      null|\n",
      "|           null|                null|      null|\n",
      "|           null|                null|      null|\n",
      "+---------------+--------------------+----------+\n",
      "only showing top 20 rows\n",
      "\n"
     ]
    }
   ],
   "source": [
    "PM_Column = GuangzhouPM.select('PM_City Station','PM_5th Middle School','PM_US Post')\n",
    "PM_Column.show()"
   ]
  },
  {
   "cell_type": "code",
   "execution_count": 13,
   "metadata": {},
   "outputs": [],
   "source": [
    "GuangzhouPM_F = GuangzhouPM.filter(GuangzhouPM['year'] > 2010)\n"
   ]
  },
  {
   "cell_type": "code",
   "execution_count": 14,
   "metadata": {},
   "outputs": [
    {
     "data": {
      "text/plain": [
       "43824"
      ]
     },
     "execution_count": 14,
     "metadata": {},
     "output_type": "execute_result"
    }
   ],
   "source": [
    "GuangzhouPM_F.count()"
   ]
  },
  {
   "cell_type": "code",
   "execution_count": 15,
   "metadata": {},
   "outputs": [
    {
     "name": "stdout",
     "output_type": "stream",
     "text": [
      "+----+----+-----+---+----+------+---------------+--------------------+----------+----+----+------+----+----+----+-------------+-----+\n",
      "|  No|year|month|day|hour|season|PM_City Station|PM_5th Middle School|PM_US Post|DEWP|HUMI|  PRES|TEMP|cbwd| Iws|precipitation|Iprec|\n",
      "+----+----+-----+---+----+------+---------------+--------------------+----------+----+----+------+----+----+----+-------------+-----+\n",
      "|8761|2011|    1|  1|   0|     4|           null|                null|      null|-2.4|  44|1011.7| 9.2|  NW| 8.8|          0.0|  0.0|\n",
      "|8762|2011|    1|  1|   1|     4|           null|                null|      null|-1.9|  45|1011.7| 9.4|  NW|10.0|          0.0|  0.0|\n",
      "|8763|2011|    1|  1|   2|     4|           null|                null|      null|-2.4|  46|1011.8| 8.5|  NW|12.2|          0.0|  0.0|\n",
      "|8764|2011|    1|  1|   3|     4|           null|                null|      null|-2.8|  47|1011.7| 7.8|  NW|15.7|          0.0|  0.0|\n",
      "|8765|2011|    1|  1|   4|     4|           null|                null|      null|-3.5|  46|1011.6| 7.4|  NW|18.1|          0.0|  0.0|\n",
      "|8766|2011|    1|  1|   5|     4|           null|                null|      null|-2.8|  51|1011.6| 6.6|  NW|20.9|          0.0|  0.0|\n",
      "|8767|2011|    1|  1|   6|     4|           null|                null|      null|-4.1|  44|1012.2| 7.3|  NE| 3.1|          0.0|  0.0|\n",
      "|8768|2011|    1|  1|   7|     4|           null|                null|      null|-1.5|  60|1012.8| 5.6|  NW| 2.9|          0.0|  0.0|\n",
      "|8769|2011|    1|  1|   8|     4|           null|                null|      null|-2.5|  52|1013.3| 6.7|  NW| 4.9|          0.0|  0.0|\n",
      "|8770|2011|    1|  1|   9|     4|           null|                null|      null|-5.5|  34|1013.8| 9.6|  NE| 3.5|          0.0|  0.0|\n",
      "|8771|2011|    1|  1|  10|     4|           null|                null|      null|-5.4|  31|1013.7|11.1|  NE| 7.5|          0.0|  0.0|\n",
      "|8772|2011|    1|  1|  11|     4|           null|                null|      null|-6.4|  26|1013.5|12.6|  NE|12.5|          0.0|  0.0|\n",
      "|8773|2011|    1|  1|  12|     4|           null|                null|      null|-4.2|  28|1012.6|14.0|  NE|15.4|          0.0|  0.0|\n",
      "|8774|2011|    1|  1|  13|     4|           null|                null|      null|-5.0|  24|1011.4|15.5|  NE|18.3|          0.0|  0.0|\n",
      "|8775|2011|    1|  1|  14|     4|           null|                null|      null|-4.7|  23|1010.1|16.5|  NE|20.6|          0.0|  0.0|\n",
      "|8776|2011|    1|  1|  15|     4|           null|                null|      null|-4.0|  23|1009.6|17.3|  NE|22.5|          0.0|  0.0|\n",
      "|8777|2011|    1|  1|  16|     4|           null|                null|      null|-4.4|  22|1008.9|17.5|  NE|25.0|          0.0|  0.0|\n",
      "|8778|2011|    1|  1|  17|     4|           null|                null|      null|-4.9|  22|1009.0|16.9|  NE|27.1|          0.0|  0.0|\n",
      "|8779|2011|    1|  1|  18|     4|           null|                null|      null|-0.6|  36|1009.4|14.2|  NE|28.5|          0.0|  0.0|\n",
      "|8780|2011|    1|  1|  19|     4|           null|                null|      null| 2.3|  56|1010.2|10.7|  NW| 2.0|          0.0|  0.0|\n",
      "+----+----+-----+---+----+------+---------------+--------------------+----------+----+----+------+----+----+----+-------------+-----+\n",
      "only showing top 20 rows\n",
      "\n"
     ]
    }
   ],
   "source": [
    "GuangzhouPM_F.show()"
   ]
  },
  {
   "cell_type": "code",
   "execution_count": 16,
   "metadata": {},
   "outputs": [],
   "source": [
    "GuangzhouPM_RemoveNA = GuangzhouPM_F.na.drop()"
   ]
  },
  {
   "cell_type": "code",
   "execution_count": 17,
   "metadata": {},
   "outputs": [
    {
     "data": {
      "text/plain": [
       "20074"
      ]
     },
     "execution_count": 17,
     "metadata": {},
     "output_type": "execute_result"
    }
   ],
   "source": [
    "GuangzhouPM_RemoveNA.count()"
   ]
  },
  {
   "cell_type": "code",
   "execution_count": 18,
   "metadata": {},
   "outputs": [
    {
     "name": "stdout",
     "output_type": "stream",
     "text": [
      "+-------+-----------------+------------------+------------------+------------------+-----------------+------------------+------------------+--------------------+------------------+------------------+------------------+------------------+------------------+-----+------------------+------------------+-----------------+\n",
      "|summary|               No|              year|             month|               day|             hour|            season|   PM_City Station|PM_5th Middle School|        PM_US Post|              DEWP|              HUMI|              PRES|              TEMP| cbwd|               Iws|     precipitation|            Iprec|\n",
      "+-------+-----------------+------------------+------------------+------------------+-----------------+------------------+------------------+--------------------+------------------+------------------+------------------+------------------+------------------+-----+------------------+------------------+-----------------+\n",
      "|  count|            20074|             20074|             20074|             20074|            20074|             20074|             20074|               20074|             20074|             20074|             20074|             20074|             20074|20074|             20074|             20074|            20074|\n",
      "|   mean|41148.14725515592| 2014.222377204344| 6.194032081299193|15.617465378101027|11.54179535717844|2.5208727707482317|47.056241904951676|   49.11975689947195|47.056241904951676|17.112364250509902| 77.41974693633556|1005.2284496950565|21.703701305113235| null| 7.551758488750667|0.2555743748858209|1.088651988607602|\n",
      "| stddev|7367.937163086599|0.7468797298966908|3.5069320584633767| 8.715533255869223|6.917680498337218|1.1563335478585155|  33.8955022330841|  30.933301357689803|  33.8955022330841| 7.332023376269461|16.750919231154025| 7.012437835949807| 6.854688039024543| null|11.065179311080621| 1.938196696646628|6.273719183058705|\n",
      "|    min|            26305|              2013|                 1|                 1|                0|                 1|                 1|                   2|                 1|             -11.7|                13|             975.0|               1.7|   NE|               0.0|               0.0|              0.0|\n",
      "|    max|            52583|              2015|                12|                31|               23|                 4|               526|                 940|               526|              27.3|               100|            1023.1|       37.40000153|   cv|       193.6999991|              56.1|      126.0000023|\n",
      "+-------+-----------------+------------------+------------------+------------------+-----------------+------------------+------------------+--------------------+------------------+------------------+------------------+------------------+------------------+-----+------------------+------------------+-----------------+\n",
      "\n"
     ]
    }
   ],
   "source": [
    "GuangzhouPM_RemoveNA.describe().show()"
   ]
  },
  {
   "cell_type": "code",
   "execution_count": 19,
   "metadata": {},
   "outputs": [],
   "source": [
    "from pyspark.sql.types import IntegerType\n",
    "changedTypeGuangzhouPM_RemoveNA = GuangzhouPM_RemoveNA.withColumn(\"dayTime\", GuangzhouPM_RemoveNA[\"year\"].cast(IntegerType()))\n"
   ]
  },
  {
   "cell_type": "code",
   "execution_count": 20,
   "metadata": {},
   "outputs": [
    {
     "name": "stdout",
     "output_type": "stream",
     "text": [
      "root\n",
      " |-- No: integer (nullable = true)\n",
      " |-- year: integer (nullable = true)\n",
      " |-- month: integer (nullable = true)\n",
      " |-- day: integer (nullable = true)\n",
      " |-- hour: integer (nullable = true)\n",
      " |-- season: integer (nullable = true)\n",
      " |-- PM_City Station: integer (nullable = true)\n",
      " |-- PM_5th Middle School: integer (nullable = true)\n",
      " |-- PM_US Post: integer (nullable = true)\n",
      " |-- DEWP: double (nullable = true)\n",
      " |-- HUMI: integer (nullable = true)\n",
      " |-- PRES: double (nullable = true)\n",
      " |-- TEMP: double (nullable = true)\n",
      " |-- cbwd: string (nullable = true)\n",
      " |-- Iws: double (nullable = true)\n",
      " |-- precipitation: double (nullable = true)\n",
      " |-- Iprec: double (nullable = true)\n",
      " |-- dayTime: integer (nullable = true)\n",
      "\n"
     ]
    }
   ],
   "source": [
    "changedTypeGuangzhouPM_RemoveNA.printSchema()"
   ]
  },
  {
   "cell_type": "code",
   "execution_count": 21,
   "metadata": {},
   "outputs": [],
   "source": [
    "from pyspark.sql import functions as F"
   ]
  },
  {
   "cell_type": "code",
   "execution_count": 22,
   "metadata": {},
   "outputs": [],
   "source": [
    "GuangzhouPM2 = changedTypeGuangzhouPM_RemoveNA.withColumn('dayTime', \n",
    "\n",
    "                    F.concat(F.col('year'),F.lit('_'), F.col('month'),F.lit('_'),F.col('day'),F.lit('_'),F.col('hour')))"
   ]
  },
  {
   "cell_type": "code",
   "execution_count": 24,
   "metadata": {
    "scrolled": true
   },
   "outputs": [
    {
     "name": "stdout",
     "output_type": "stream",
     "text": [
      "root\n",
      " |-- No: integer (nullable = true)\n",
      " |-- year: integer (nullable = true)\n",
      " |-- month: integer (nullable = true)\n",
      " |-- day: integer (nullable = true)\n",
      " |-- hour: integer (nullable = true)\n",
      " |-- season: integer (nullable = true)\n",
      " |-- PM_City Station: integer (nullable = true)\n",
      " |-- PM_5th Middle School: integer (nullable = true)\n",
      " |-- PM_US Post: integer (nullable = true)\n",
      " |-- DEWP: double (nullable = true)\n",
      " |-- HUMI: integer (nullable = true)\n",
      " |-- PRES: double (nullable = true)\n",
      " |-- TEMP: double (nullable = true)\n",
      " |-- cbwd: string (nullable = true)\n",
      " |-- Iws: double (nullable = true)\n",
      " |-- precipitation: double (nullable = true)\n",
      " |-- Iprec: double (nullable = true)\n",
      " |-- dayTime: string (nullable = true)\n",
      "\n"
     ]
    }
   ],
   "source": [
    "GuangzhouPM2.printSchema()"
   ]
  },
  {
   "cell_type": "code",
   "execution_count": 26,
   "metadata": {},
   "outputs": [
    {
     "data": {
      "text/plain": [
       "20074"
      ]
     },
     "execution_count": 26,
     "metadata": {},
     "output_type": "execute_result"
    }
   ],
   "source": [
    "GuangzhouPM2.count()"
   ]
  },
  {
   "cell_type": "code",
   "execution_count": 27,
   "metadata": {},
   "outputs": [],
   "source": [
    "GuangzhouPM3 = GuangzhouPM2.withColumn('OutdoorSafeIndex', \n",
    "                                       F.when((F.col(\"PM_City Station\")<=26), 'Good')\\\n",
    "                                       .when((F.col('PM_City Station')> 40), 'Bad')\\\n",
    "                                       .otherwise ('Fair')\n",
    "                                      )\n"
   ]
  },
  {
   "cell_type": "code",
   "execution_count": 28,
   "metadata": {},
   "outputs": [
    {
     "data": {
      "text/plain": [
       "['No',\n",
       " 'year',\n",
       " 'month',\n",
       " 'day',\n",
       " 'hour',\n",
       " 'season',\n",
       " 'PM_City Station',\n",
       " 'PM_5th Middle School',\n",
       " 'PM_US Post',\n",
       " 'DEWP',\n",
       " 'HUMI',\n",
       " 'PRES',\n",
       " 'TEMP',\n",
       " 'cbwd',\n",
       " 'Iws',\n",
       " 'precipitation',\n",
       " 'Iprec',\n",
       " 'dayTime',\n",
       " 'OutdoorSafeIndex']"
      ]
     },
     "execution_count": 28,
     "metadata": {},
     "output_type": "execute_result"
    }
   ],
   "source": [
    "GuangzhouPM3.columns"
   ]
  },
  {
   "cell_type": "code",
   "execution_count": 29,
   "metadata": {},
   "outputs": [
    {
     "name": "stdout",
     "output_type": "stream",
     "text": [
      "+-----+----+-----+---+----+------+---------------+--------------------+----------+----+----+------+----+----+----+-------------+-----+-----------+----------------+\n",
      "|   No|year|month|day|hour|season|PM_City Station|PM_5th Middle School|PM_US Post|DEWP|HUMI|  PRES|TEMP|cbwd| Iws|precipitation|Iprec|    dayTime|OutdoorSafeIndex|\n",
      "+-----+----+-----+---+----+------+---------------+--------------------+----------+----+----+------+----+----+----+-------------+-----+-----------+----------------+\n",
      "|26305|2013|    1|  1|   0|     4|             83|                  78|        83| 3.7|  91|1014.2| 5.0|  NW| 1.9|          0.0|  0.0| 2013_1_1_0|             Bad|\n",
      "|26306|2013|    1|  1|   1|     4|             95|                  70|        95| 4.2|  88|1014.2| 6.0|  NW| 3.4|          0.0|  0.0| 2013_1_1_1|             Bad|\n",
      "|26308|2013|    1|  1|   3|     4|             55|                  66|        55| 3.5|  76|1013.9| 7.5|  NW| 5.8|          0.0|  0.0| 2013_1_1_3|             Bad|\n",
      "|26309|2013|    1|  1|   4|     4|             60|                  69|        60| 2.7|  69|1013.9| 8.0|  NW| 8.2|          0.0|  0.0| 2013_1_1_4|             Bad|\n",
      "|26310|2013|    1|  1|   5|     4|             41|                  51|        41| 1.5|  62|1014.2| 8.4|  NW| 9.0|          0.0|  0.0| 2013_1_1_5|             Bad|\n",
      "|26311|2013|    1|  1|   6|     4|             42|                  39|        42| 2.3|  66|1014.3| 8.3|  NW|11.4|          0.0|  0.0| 2013_1_1_6|             Bad|\n",
      "|26312|2013|    1|  1|   7|     4|             40|                  37|        40| 2.9|  69|1014.3| 8.2|  NE| 2.0|          0.0|  0.0| 2013_1_1_7|            Fair|\n",
      "|26313|2013|    1|  1|   8|     4|             40|                  38|        40| 1.7|  61|1014.8| 8.8|  NE| 4.1|          0.0|  0.0| 2013_1_1_8|            Fair|\n",
      "|26314|2013|    1|  1|   9|     4|             35|                  34|        35| 0.4|  51|1015.3|10.1|  NE| 6.0|          0.0|  0.0| 2013_1_1_9|            Fair|\n",
      "|26315|2013|    1|  1|  10|     4|             42|                  34|        42| 1.3|  52|1015.3|10.8|  NW| 1.1|          0.0|  0.0|2013_1_1_10|             Bad|\n",
      "|26316|2013|    1|  1|  11|     4|             48|                  28|        48| 0.7|  46|1015.2|12.0|  NW| 4.1|          0.0|  0.0|2013_1_1_11|             Bad|\n",
      "|26318|2013|    1|  1|  13|     4|             62|                  49|        62| 0.1|  42|1012.6|12.7|  NE| 1.5|          0.0|  0.0|2013_1_1_13|             Bad|\n",
      "|26319|2013|    1|  1|  14|     4|             51|                  60|        51| 1.1|  44|1011.6|13.1|  NE| 3.7|          0.0|  0.0|2013_1_1_14|             Bad|\n",
      "|26320|2013|    1|  1|  15|     4|             49|                  50|        49| 1.1|  43|1011.2|13.4|  NE| 5.5|          0.0|  0.0|2013_1_1_15|             Bad|\n",
      "|26321|2013|    1|  1|  16|     4|             57|                  52|        57| 1.6|  46|1011.4|12.9|  NE| 7.1|          0.0|  0.0|2013_1_1_16|             Bad|\n",
      "|26322|2013|    1|  1|  17|     4|             60|                  52|        60| 3.0|  52|1011.5|12.6|  NE| 8.5|          0.0|  0.0|2013_1_1_17|             Bad|\n",
      "|26323|2013|    1|  1|  18|     4|             61|                  51|        61| 5.1|  62|1012.0|12.2|  cv| 0.0|          0.0|  0.0|2013_1_1_18|             Bad|\n",
      "|26324|2013|    1|  1|  19|     4|             72|                  57|        72| 6.3|  72|1012.4|11.2|  NW| 1.2|          0.0|  0.0|2013_1_1_19|             Bad|\n",
      "|26325|2013|    1|  1|  20|     4|             53|                  69|        53| 6.7|  76|1012.4|10.8|  NE| 1.4|          0.0|  0.0|2013_1_1_20|             Bad|\n",
      "|26326|2013|    1|  1|  21|     4|             50|                  53|        50| 6.5|  75|1012.2|10.7|  NW| 1.2|          0.0|  0.0|2013_1_1_21|             Bad|\n",
      "+-----+----+-----+---+----+------+---------------+--------------------+----------+----+----+------+----+----+----+-------------+-----+-----------+----------------+\n",
      "only showing top 20 rows\n",
      "\n"
     ]
    }
   ],
   "source": [
    "GuangzhouPM3.show()"
   ]
  },
  {
   "cell_type": "code",
   "execution_count": 30,
   "metadata": {},
   "outputs": [
    {
     "name": "stdout",
     "output_type": "stream",
     "text": [
      "+-----+---------------+-----------+----------------+\n",
      "|   No|PM_City Station|    dayTime|OutdoorSafeIndex|\n",
      "+-----+---------------+-----------+----------------+\n",
      "|26305|             83| 2013_1_1_0|             Bad|\n",
      "|26306|             95| 2013_1_1_1|             Bad|\n",
      "|26308|             55| 2013_1_1_3|             Bad|\n",
      "|26309|             60| 2013_1_1_4|             Bad|\n",
      "|26310|             41| 2013_1_1_5|             Bad|\n",
      "|26311|             42| 2013_1_1_6|             Bad|\n",
      "|26312|             40| 2013_1_1_7|            Fair|\n",
      "|26313|             40| 2013_1_1_8|            Fair|\n",
      "|26314|             35| 2013_1_1_9|            Fair|\n",
      "|26315|             42|2013_1_1_10|             Bad|\n",
      "|26316|             48|2013_1_1_11|             Bad|\n",
      "|26318|             62|2013_1_1_13|             Bad|\n",
      "|26319|             51|2013_1_1_14|             Bad|\n",
      "|26320|             49|2013_1_1_15|             Bad|\n",
      "|26321|             57|2013_1_1_16|             Bad|\n",
      "|26322|             60|2013_1_1_17|             Bad|\n",
      "|26323|             61|2013_1_1_18|             Bad|\n",
      "|26324|             72|2013_1_1_19|             Bad|\n",
      "|26325|             53|2013_1_1_20|             Bad|\n",
      "|26326|             50|2013_1_1_21|             Bad|\n",
      "+-----+---------------+-----------+----------------+\n",
      "only showing top 20 rows\n",
      "\n"
     ]
    }
   ],
   "source": [
    "GuangzhouPM3.select('No','PM_City Station','dayTime','OutdoorSafeIndex').show()"
   ]
  },
  {
   "cell_type": "code",
   "execution_count": 31,
   "metadata": {},
   "outputs": [
    {
     "name": "stdout",
     "output_type": "stream",
     "text": [
      "root\n",
      " |-- No: integer (nullable = true)\n",
      " |-- year: integer (nullable = true)\n",
      " |-- month: integer (nullable = true)\n",
      " |-- day: integer (nullable = true)\n",
      " |-- hour: integer (nullable = true)\n",
      " |-- season: integer (nullable = true)\n",
      " |-- PM_City Station: integer (nullable = true)\n",
      " |-- PM_5th Middle School: integer (nullable = true)\n",
      " |-- PM_US Post: integer (nullable = true)\n",
      " |-- DEWP: double (nullable = true)\n",
      " |-- HUMI: integer (nullable = true)\n",
      " |-- PRES: double (nullable = true)\n",
      " |-- TEMP: double (nullable = true)\n",
      " |-- cbwd: string (nullable = true)\n",
      " |-- Iws: double (nullable = true)\n",
      " |-- precipitation: double (nullable = true)\n",
      " |-- Iprec: double (nullable = true)\n",
      " |-- dayTime: string (nullable = true)\n",
      " |-- OutdoorSafeIndex: string (nullable = false)\n",
      "\n"
     ]
    }
   ],
   "source": [
    "GuangzhouPM3.printSchema()"
   ]
  },
  {
   "cell_type": "code",
   "execution_count": 32,
   "metadata": {
    "scrolled": true
   },
   "outputs": [],
   "source": [
    "GuangzhouPM4 = GuangzhouPM3.sort(\"year\",\"month\",\"day\",\"hour\",\"dayTime\")"
   ]
  },
  {
   "cell_type": "code",
   "execution_count": 33,
   "metadata": {},
   "outputs": [
    {
     "name": "stdout",
     "output_type": "stream",
     "text": [
      "+-----+----+-----+---+----+------+---------------+--------------------+----------+----+----+------+----+----+----+-------------+-----+-----------+----------------+\n",
      "|   No|year|month|day|hour|season|PM_City Station|PM_5th Middle School|PM_US Post|DEWP|HUMI|  PRES|TEMP|cbwd| Iws|precipitation|Iprec|    dayTime|OutdoorSafeIndex|\n",
      "+-----+----+-----+---+----+------+---------------+--------------------+----------+----+----+------+----+----+----+-------------+-----+-----------+----------------+\n",
      "|26305|2013|    1|  1|   0|     4|             83|                  78|        83| 3.7|  91|1014.2| 5.0|  NW| 1.9|          0.0|  0.0| 2013_1_1_0|             Bad|\n",
      "|26306|2013|    1|  1|   1|     4|             95|                  70|        95| 4.2|  88|1014.2| 6.0|  NW| 3.4|          0.0|  0.0| 2013_1_1_1|             Bad|\n",
      "|26308|2013|    1|  1|   3|     4|             55|                  66|        55| 3.5|  76|1013.9| 7.5|  NW| 5.8|          0.0|  0.0| 2013_1_1_3|             Bad|\n",
      "|26309|2013|    1|  1|   4|     4|             60|                  69|        60| 2.7|  69|1013.9| 8.0|  NW| 8.2|          0.0|  0.0| 2013_1_1_4|             Bad|\n",
      "|26310|2013|    1|  1|   5|     4|             41|                  51|        41| 1.5|  62|1014.2| 8.4|  NW| 9.0|          0.0|  0.0| 2013_1_1_5|             Bad|\n",
      "|26311|2013|    1|  1|   6|     4|             42|                  39|        42| 2.3|  66|1014.3| 8.3|  NW|11.4|          0.0|  0.0| 2013_1_1_6|             Bad|\n",
      "|26312|2013|    1|  1|   7|     4|             40|                  37|        40| 2.9|  69|1014.3| 8.2|  NE| 2.0|          0.0|  0.0| 2013_1_1_7|            Fair|\n",
      "|26313|2013|    1|  1|   8|     4|             40|                  38|        40| 1.7|  61|1014.8| 8.8|  NE| 4.1|          0.0|  0.0| 2013_1_1_8|            Fair|\n",
      "|26314|2013|    1|  1|   9|     4|             35|                  34|        35| 0.4|  51|1015.3|10.1|  NE| 6.0|          0.0|  0.0| 2013_1_1_9|            Fair|\n",
      "|26315|2013|    1|  1|  10|     4|             42|                  34|        42| 1.3|  52|1015.3|10.8|  NW| 1.1|          0.0|  0.0|2013_1_1_10|             Bad|\n",
      "|26316|2013|    1|  1|  11|     4|             48|                  28|        48| 0.7|  46|1015.2|12.0|  NW| 4.1|          0.0|  0.0|2013_1_1_11|             Bad|\n",
      "|26318|2013|    1|  1|  13|     4|             62|                  49|        62| 0.1|  42|1012.6|12.7|  NE| 1.5|          0.0|  0.0|2013_1_1_13|             Bad|\n",
      "|26319|2013|    1|  1|  14|     4|             51|                  60|        51| 1.1|  44|1011.6|13.1|  NE| 3.7|          0.0|  0.0|2013_1_1_14|             Bad|\n",
      "|26320|2013|    1|  1|  15|     4|             49|                  50|        49| 1.1|  43|1011.2|13.4|  NE| 5.5|          0.0|  0.0|2013_1_1_15|             Bad|\n",
      "|26321|2013|    1|  1|  16|     4|             57|                  52|        57| 1.6|  46|1011.4|12.9|  NE| 7.1|          0.0|  0.0|2013_1_1_16|             Bad|\n",
      "|26322|2013|    1|  1|  17|     4|             60|                  52|        60| 3.0|  52|1011.5|12.6|  NE| 8.5|          0.0|  0.0|2013_1_1_17|             Bad|\n",
      "|26323|2013|    1|  1|  18|     4|             61|                  51|        61| 5.1|  62|1012.0|12.2|  cv| 0.0|          0.0|  0.0|2013_1_1_18|             Bad|\n",
      "|26324|2013|    1|  1|  19|     4|             72|                  57|        72| 6.3|  72|1012.4|11.2|  NW| 1.2|          0.0|  0.0|2013_1_1_19|             Bad|\n",
      "|26325|2013|    1|  1|  20|     4|             53|                  69|        53| 6.7|  76|1012.4|10.8|  NE| 1.4|          0.0|  0.0|2013_1_1_20|             Bad|\n",
      "|26326|2013|    1|  1|  21|     4|             50|                  53|        50| 6.5|  75|1012.2|10.7|  NW| 1.2|          0.0|  0.0|2013_1_1_21|             Bad|\n",
      "+-----+----+-----+---+----+------+---------------+--------------------+----------+----+----+------+----+----+----+-------------+-----+-----------+----------------+\n",
      "only showing top 20 rows\n",
      "\n"
     ]
    }
   ],
   "source": [
    "GuangzhouPM4.show()"
   ]
  },
  {
   "cell_type": "code",
   "execution_count": 34,
   "metadata": {},
   "outputs": [
    {
     "data": {
      "text/plain": [
       "20074"
      ]
     },
     "execution_count": 34,
     "metadata": {},
     "output_type": "execute_result"
    }
   ],
   "source": [
    "GuangzhouPM4.count()"
   ]
  },
  {
   "cell_type": "code",
   "execution_count": 35,
   "metadata": {},
   "outputs": [
    {
     "name": "stdout",
     "output_type": "stream",
     "text": [
      "root\n",
      " |-- No: integer (nullable = true)\n",
      " |-- year: integer (nullable = true)\n",
      " |-- month: integer (nullable = true)\n",
      " |-- day: integer (nullable = true)\n",
      " |-- hour: integer (nullable = true)\n",
      " |-- season: integer (nullable = true)\n",
      " |-- PM_City Station: integer (nullable = true)\n",
      " |-- PM_5th Middle School: integer (nullable = true)\n",
      " |-- PM_US Post: integer (nullable = true)\n",
      " |-- DEWP: double (nullable = true)\n",
      " |-- HUMI: integer (nullable = true)\n",
      " |-- PRES: double (nullable = true)\n",
      " |-- TEMP: double (nullable = true)\n",
      " |-- cbwd: string (nullable = true)\n",
      " |-- Iws: double (nullable = true)\n",
      " |-- precipitation: double (nullable = true)\n",
      " |-- Iprec: double (nullable = true)\n",
      " |-- dayTime: string (nullable = true)\n",
      " |-- OutdoorSafeIndex: string (nullable = false)\n",
      "\n"
     ]
    }
   ],
   "source": [
    "GuangzhouPM4.printSchema()"
   ]
  },
  {
   "cell_type": "code",
   "execution_count": 36,
   "metadata": {},
   "outputs": [
    {
     "name": "stdout",
     "output_type": "stream",
     "text": [
      "+-------+-----+-----+-----+-----+-----+------+---------------+--------------------+----------+-----+-----+-----+-----+-----+-----+-------------+-----+-------+----------------+\n",
      "|summary|   No| year|month|  day| hour|season|PM_City Station|PM_5th Middle School|PM_US Post| DEWP| HUMI| PRES| TEMP| cbwd|  Iws|precipitation|Iprec|dayTime|OutdoorSafeIndex|\n",
      "+-------+-----+-----+-----+-----+-----+------+---------------+--------------------+----------+-----+-----+-----+-----+-----+-----+-------------+-----+-------+----------------+\n",
      "|  count|20074|20074|20074|20074|20074| 20074|          20074|               20074|     20074|20074|20074|20074|20074|20074|20074|        20074|20074|  20074|           20074|\n",
      "+-------+-----+-----+-----+-----+-----+------+---------------+--------------------+----------+-----+-----+-----+-----+-----+-----+-------------+-----+-------+----------------+\n",
      "\n"
     ]
    }
   ],
   "source": [
    "GuangzhouPM4.describe().filter(col(\"summary\") == \"count\").show()"
   ]
  },
  {
   "cell_type": "code",
   "execution_count": 38,
   "metadata": {},
   "outputs": [],
   "source": [
    "GuangzhouPM5 = GuangzhouPM4.drop(\"No\")"
   ]
  },
  {
   "cell_type": "code",
   "execution_count": 39,
   "metadata": {},
   "outputs": [
    {
     "data": {
      "text/plain": [
       "['year',\n",
       " 'month',\n",
       " 'day',\n",
       " 'hour',\n",
       " 'season',\n",
       " 'PM_City Station',\n",
       " 'PM_5th Middle School',\n",
       " 'PM_US Post',\n",
       " 'DEWP',\n",
       " 'HUMI',\n",
       " 'PRES',\n",
       " 'TEMP',\n",
       " 'cbwd',\n",
       " 'Iws',\n",
       " 'precipitation',\n",
       " 'Iprec',\n",
       " 'dayTime',\n",
       " 'OutdoorSafeIndex']"
      ]
     },
     "execution_count": 39,
     "metadata": {},
     "output_type": "execute_result"
    }
   ],
   "source": [
    "GuangzhouPM5.columns"
   ]
  },
  {
   "cell_type": "code",
   "execution_count": 40,
   "metadata": {},
   "outputs": [],
   "source": [
    "GuangzhouPM6 = GuangzhouPM5.drop('PM_5th Middle School','PM_US Post')"
   ]
  },
  {
   "cell_type": "code",
   "execution_count": 41,
   "metadata": {},
   "outputs": [
    {
     "data": {
      "text/plain": [
       "['year',\n",
       " 'month',\n",
       " 'day',\n",
       " 'hour',\n",
       " 'season',\n",
       " 'PM_City Station',\n",
       " 'DEWP',\n",
       " 'HUMI',\n",
       " 'PRES',\n",
       " 'TEMP',\n",
       " 'cbwd',\n",
       " 'Iws',\n",
       " 'precipitation',\n",
       " 'Iprec',\n",
       " 'dayTime',\n",
       " 'OutdoorSafeIndex']"
      ]
     },
     "execution_count": 41,
     "metadata": {},
     "output_type": "execute_result"
    }
   ],
   "source": [
    "GuangzhouPM6.columns"
   ]
  },
  {
   "cell_type": "code",
   "execution_count": 42,
   "metadata": {},
   "outputs": [
    {
     "name": "stdout",
     "output_type": "stream",
     "text": [
      "+----+-----+---+----+------+---------------+----+----+------+----+----+----+-------------+-----+-----------+----------------+\n",
      "|year|month|day|hour|season|PM_City Station|DEWP|HUMI|  PRES|TEMP|cbwd| Iws|precipitation|Iprec|    dayTime|OutdoorSafeIndex|\n",
      "+----+-----+---+----+------+---------------+----+----+------+----+----+----+-------------+-----+-----------+----------------+\n",
      "|2013|    1|  1|   0|     4|             83| 3.7|  91|1014.2| 5.0|  NW| 1.9|          0.0|  0.0| 2013_1_1_0|             Bad|\n",
      "|2013|    1|  1|   1|     4|             95| 4.2|  88|1014.2| 6.0|  NW| 3.4|          0.0|  0.0| 2013_1_1_1|             Bad|\n",
      "|2013|    1|  1|   3|     4|             55| 3.5|  76|1013.9| 7.5|  NW| 5.8|          0.0|  0.0| 2013_1_1_3|             Bad|\n",
      "|2013|    1|  1|   4|     4|             60| 2.7|  69|1013.9| 8.0|  NW| 8.2|          0.0|  0.0| 2013_1_1_4|             Bad|\n",
      "|2013|    1|  1|   5|     4|             41| 1.5|  62|1014.2| 8.4|  NW| 9.0|          0.0|  0.0| 2013_1_1_5|             Bad|\n",
      "|2013|    1|  1|   6|     4|             42| 2.3|  66|1014.3| 8.3|  NW|11.4|          0.0|  0.0| 2013_1_1_6|             Bad|\n",
      "|2013|    1|  1|   7|     4|             40| 2.9|  69|1014.3| 8.2|  NE| 2.0|          0.0|  0.0| 2013_1_1_7|            Fair|\n",
      "|2013|    1|  1|   8|     4|             40| 1.7|  61|1014.8| 8.8|  NE| 4.1|          0.0|  0.0| 2013_1_1_8|            Fair|\n",
      "|2013|    1|  1|   9|     4|             35| 0.4|  51|1015.3|10.1|  NE| 6.0|          0.0|  0.0| 2013_1_1_9|            Fair|\n",
      "|2013|    1|  1|  10|     4|             42| 1.3|  52|1015.3|10.8|  NW| 1.1|          0.0|  0.0|2013_1_1_10|             Bad|\n",
      "+----+-----+---+----+------+---------------+----+----+------+----+----+----+-------------+-----+-----------+----------------+\n",
      "only showing top 10 rows\n",
      "\n"
     ]
    },
    {
     "data": {
      "text/plain": [
       "20074"
      ]
     },
     "execution_count": 42,
     "metadata": {},
     "output_type": "execute_result"
    }
   ],
   "source": [
    "GuangzhouPM6.show(10)\n",
    "GuangzhouPM6.count()"
   ]
  },
  {
   "cell_type": "code",
   "execution_count": 43,
   "metadata": {},
   "outputs": [
    {
     "name": "stdout",
     "output_type": "stream",
     "text": [
      "root\n",
      " |-- year: integer (nullable = true)\n",
      " |-- month: integer (nullable = true)\n",
      " |-- day: integer (nullable = true)\n",
      " |-- hour: integer (nullable = true)\n",
      " |-- season: integer (nullable = true)\n",
      " |-- PM_City Station: integer (nullable = true)\n",
      " |-- DEWP: double (nullable = true)\n",
      " |-- HUMI: integer (nullable = true)\n",
      " |-- PRES: double (nullable = true)\n",
      " |-- TEMP: double (nullable = true)\n",
      " |-- cbwd: string (nullable = true)\n",
      " |-- Iws: double (nullable = true)\n",
      " |-- precipitation: double (nullable = true)\n",
      " |-- Iprec: double (nullable = true)\n",
      " |-- dayTime: string (nullable = true)\n",
      " |-- OutdoorSafeIndex: string (nullable = false)\n",
      "\n"
     ]
    }
   ],
   "source": [
    "GuangzhouPM6.printSchema()"
   ]
  },
  {
   "cell_type": "code",
   "execution_count": 44,
   "metadata": {},
   "outputs": [],
   "source": [
    "GuangzhouPM6_log = GuangzhouPM6.withColumn('PM_City Station_Log', F.log(GuangzhouPM6['PM_City Station']))"
   ]
  },
  {
   "cell_type": "code",
   "execution_count": 45,
   "metadata": {},
   "outputs": [
    {
     "name": "stdout",
     "output_type": "stream",
     "text": [
      "+----+-----+---+----+------+---------------+----+----+------+----+----+----+-------------+-----+-----------+----------------+-------------------+\n",
      "|year|month|day|hour|season|PM_City Station|DEWP|HUMI|  PRES|TEMP|cbwd| Iws|precipitation|Iprec|    dayTime|OutdoorSafeIndex|PM_City Station_Log|\n",
      "+----+-----+---+----+------+---------------+----+----+------+----+----+----+-------------+-----+-----------+----------------+-------------------+\n",
      "|2013|    1|  1|   0|     4|             83| 3.7|  91|1014.2| 5.0|  NW| 1.9|          0.0|  0.0| 2013_1_1_0|             Bad|  4.418840607796598|\n",
      "|2013|    1|  1|   1|     4|             95| 4.2|  88|1014.2| 6.0|  NW| 3.4|          0.0|  0.0| 2013_1_1_1|             Bad|  4.553876891600541|\n",
      "|2013|    1|  1|   3|     4|             55| 3.5|  76|1013.9| 7.5|  NW| 5.8|          0.0|  0.0| 2013_1_1_3|             Bad|  4.007333185232471|\n",
      "|2013|    1|  1|   4|     4|             60| 2.7|  69|1013.9| 8.0|  NW| 8.2|          0.0|  0.0| 2013_1_1_4|             Bad|    4.0943445622221|\n",
      "|2013|    1|  1|   5|     4|             41| 1.5|  62|1014.2| 8.4|  NW| 9.0|          0.0|  0.0| 2013_1_1_5|             Bad|  3.713572066704308|\n",
      "|2013|    1|  1|   6|     4|             42| 2.3|  66|1014.3| 8.3|  NW|11.4|          0.0|  0.0| 2013_1_1_6|             Bad| 3.7376696182833684|\n",
      "|2013|    1|  1|   7|     4|             40| 2.9|  69|1014.3| 8.2|  NE| 2.0|          0.0|  0.0| 2013_1_1_7|            Fair| 3.6888794541139363|\n",
      "|2013|    1|  1|   8|     4|             40| 1.7|  61|1014.8| 8.8|  NE| 4.1|          0.0|  0.0| 2013_1_1_8|            Fair| 3.6888794541139363|\n",
      "|2013|    1|  1|   9|     4|             35| 0.4|  51|1015.3|10.1|  NE| 6.0|          0.0|  0.0| 2013_1_1_9|            Fair| 3.5553480614894135|\n",
      "|2013|    1|  1|  10|     4|             42| 1.3|  52|1015.3|10.8|  NW| 1.1|          0.0|  0.0|2013_1_1_10|             Bad| 3.7376696182833684|\n",
      "|2013|    1|  1|  11|     4|             48| 0.7|  46|1015.2|12.0|  NW| 4.1|          0.0|  0.0|2013_1_1_11|             Bad|  3.871201010907891|\n",
      "|2013|    1|  1|  13|     4|             62| 0.1|  42|1012.6|12.7|  NE| 1.5|          0.0|  0.0|2013_1_1_13|             Bad|  4.127134385045092|\n",
      "|2013|    1|  1|  14|     4|             51| 1.1|  44|1011.6|13.1|  NE| 3.7|          0.0|  0.0|2013_1_1_14|             Bad| 3.9318256327243257|\n",
      "|2013|    1|  1|  15|     4|             49| 1.1|  43|1011.2|13.4|  NE| 5.5|          0.0|  0.0|2013_1_1_15|             Bad| 3.8918202981106265|\n",
      "|2013|    1|  1|  16|     4|             57| 1.6|  46|1011.4|12.9|  NE| 7.1|          0.0|  0.0|2013_1_1_16|             Bad|   4.04305126783455|\n",
      "|2013|    1|  1|  17|     4|             60| 3.0|  52|1011.5|12.6|  NE| 8.5|          0.0|  0.0|2013_1_1_17|             Bad|    4.0943445622221|\n",
      "|2013|    1|  1|  18|     4|             61| 5.1|  62|1012.0|12.2|  cv| 0.0|          0.0|  0.0|2013_1_1_18|             Bad|  4.110873864173311|\n",
      "|2013|    1|  1|  19|     4|             72| 6.3|  72|1012.4|11.2|  NW| 1.2|          0.0|  0.0|2013_1_1_19|             Bad|  4.276666119016055|\n",
      "|2013|    1|  1|  20|     4|             53| 6.7|  76|1012.4|10.8|  NE| 1.4|          0.0|  0.0|2013_1_1_20|             Bad|  3.970291913552122|\n",
      "|2013|    1|  1|  21|     4|             50| 6.5|  75|1012.2|10.7|  NW| 1.2|          0.0|  0.0|2013_1_1_21|             Bad|  3.912023005428146|\n",
      "+----+-----+---+----+------+---------------+----+----+------+----+----+----+-------------+-----+-----------+----------------+-------------------+\n",
      "only showing top 20 rows\n",
      "\n"
     ]
    }
   ],
   "source": [
    "GuangzhouPM6_log.show()"
   ]
  },
  {
   "cell_type": "code",
   "execution_count": 46,
   "metadata": {},
   "outputs": [],
   "source": [
    "# Import VectorAssembler and Vectors\n",
    "from pyspark.ml.linalg import Vectors\n",
    "from pyspark.ml.feature import VectorAssembler"
   ]
  },
  {
   "cell_type": "code",
   "execution_count": 47,
   "metadata": {},
   "outputs": [],
   "source": [
    "# Model 1 run - The input columns are the feature column names, and the output column is what you'd like the new column to be named. \n",
    "assembler = VectorAssembler(\n",
    "    inputCols=[\"season\", \"DEWP\", \n",
    "               \"HUMI\",'PRES','TEMP','Iws','precipitation','Iprec'],\n",
    "    outputCol=\"features\")"
   ]
  },
  {
   "cell_type": "code",
   "execution_count": 48,
   "metadata": {},
   "outputs": [],
   "source": [
    "output = assembler.transform(GuangzhouPM6_log)"
   ]
  },
  {
   "cell_type": "code",
   "execution_count": 49,
   "metadata": {},
   "outputs": [
    {
     "name": "stdout",
     "output_type": "stream",
     "text": [
      "root\n",
      " |-- year: integer (nullable = true)\n",
      " |-- month: integer (nullable = true)\n",
      " |-- day: integer (nullable = true)\n",
      " |-- hour: integer (nullable = true)\n",
      " |-- season: integer (nullable = true)\n",
      " |-- PM_City Station: integer (nullable = true)\n",
      " |-- DEWP: double (nullable = true)\n",
      " |-- HUMI: integer (nullable = true)\n",
      " |-- PRES: double (nullable = true)\n",
      " |-- TEMP: double (nullable = true)\n",
      " |-- cbwd: string (nullable = true)\n",
      " |-- Iws: double (nullable = true)\n",
      " |-- precipitation: double (nullable = true)\n",
      " |-- Iprec: double (nullable = true)\n",
      " |-- dayTime: string (nullable = true)\n",
      " |-- OutdoorSafeIndex: string (nullable = false)\n",
      " |-- PM_City Station_Log: double (nullable = true)\n",
      " |-- features: vector (nullable = true)\n",
      "\n"
     ]
    }
   ],
   "source": [
    "output.printSchema()"
   ]
  },
  {
   "cell_type": "code",
   "execution_count": 50,
   "metadata": {},
   "outputs": [
    {
     "data": {
      "text/plain": [
       "[Row(year=2013, month=1, day=1, hour=0, season=4, PM_City Station=83, DEWP=3.7, HUMI=91, PRES=1014.2, TEMP=5.0, cbwd='NW', Iws=1.9, precipitation=0.0, Iprec=0.0, dayTime='2013_1_1_0', OutdoorSafeIndex='Bad', PM_City Station_Log=4.418840607796598, features=DenseVector([4.0, 3.7, 91.0, 1014.2, 5.0, 1.9, 0.0, 0.0]))]"
      ]
     },
     "execution_count": 50,
     "metadata": {},
     "output_type": "execute_result"
    }
   ],
   "source": [
    "output.head(1)"
   ]
  },
  {
   "cell_type": "code",
   "execution_count": 51,
   "metadata": {},
   "outputs": [
    {
     "name": "stdout",
     "output_type": "stream",
     "text": [
      "+--------------------+---------------+\n",
      "|            features|PM_City Station|\n",
      "+--------------------+---------------+\n",
      "|[4.0,3.7,91.0,101...|             83|\n",
      "|[4.0,4.2,88.0,101...|             95|\n",
      "|[4.0,3.5,76.0,101...|             55|\n",
      "|[4.0,2.7,69.0,101...|             60|\n",
      "|[4.0,1.5,62.0,101...|             41|\n",
      "|[4.0,2.3,66.0,101...|             42|\n",
      "|[4.0,2.9,69.0,101...|             40|\n",
      "|[4.0,1.7,61.0,101...|             40|\n",
      "|[4.0,0.4,51.0,101...|             35|\n",
      "|[4.0,1.3,52.0,101...|             42|\n",
      "|[4.0,0.7,46.0,101...|             48|\n",
      "|[4.0,0.1,42.0,101...|             62|\n",
      "|[4.0,1.1,44.0,101...|             51|\n",
      "|[4.0,1.1,43.0,101...|             49|\n",
      "|[4.0,1.6,46.0,101...|             57|\n",
      "|[4.0,3.0,52.0,101...|             60|\n",
      "|[4.0,5.1,62.0,101...|             61|\n",
      "|[4.0,6.3,72.0,101...|             72|\n",
      "|[4.0,6.7,76.0,101...|             53|\n",
      "|[4.0,6.5,75.0,101...|             50|\n",
      "+--------------------+---------------+\n",
      "only showing top 20 rows\n",
      "\n"
     ]
    }
   ],
   "source": [
    "# Let's select two columns (the feature and predictor).\n",
    "# This is now in the appropriate format to be processed by Spark.\n",
    "final_GuangzhouPM = output.select(\"features\",'PM_City Station')\n",
    "final_GuangzhouPM.show()"
   ]
  },
  {
   "cell_type": "code",
   "execution_count": 52,
   "metadata": {},
   "outputs": [
    {
     "name": "stdout",
     "output_type": "stream",
     "text": [
      "+--------------------+---------------+\n",
      "|            features|PM_City Station|\n",
      "+--------------------+---------------+\n",
      "|[4.0,0.4,51.0,101...|             35|\n",
      "|[4.0,0.7,46.0,101...|             48|\n",
      "|[4.0,1.1,43.0,101...|             49|\n",
      "|[4.0,1.1,44.0,101...|             51|\n",
      "|[4.0,1.3,52.0,101...|             42|\n",
      "|[4.0,1.5,62.0,101...|             41|\n",
      "|[4.0,1.7,61.0,101...|             40|\n",
      "|[4.0,1.8,72.0,101...|             26|\n",
      "|[4.0,1.8,73.0,101...|             30|\n",
      "|[4.0,2.0,73.0,101...|             30|\n",
      "|[4.0,2.1,74.0,101...|             31|\n",
      "|[4.0,2.3,66.0,101...|             42|\n",
      "|[4.0,2.3,69.0,101...|             37|\n",
      "|[4.0,2.4,77.0,101...|             42|\n",
      "|[4.0,2.6,75.0,101...|             34|\n",
      "|[4.0,2.7,68.0,101...|             33|\n",
      "|[4.0,2.7,68.0,101...|             48|\n",
      "|[4.0,2.7,69.0,101...|             60|\n",
      "|[4.0,2.7,70.0,101...|             26|\n",
      "|[4.0,2.7,80.0,101...|             37|\n",
      "+--------------------+---------------+\n",
      "only showing top 20 rows\n",
      "\n"
     ]
    }
   ],
   "source": [
    "train_GuangzhouPM,test_GuangzhouPM = final_GuangzhouPM.randomSplit([0.7,0.3])\n",
    "train_GuangzhouPM.show()\n"
   ]
  },
  {
   "cell_type": "code",
   "execution_count": 53,
   "metadata": {},
   "outputs": [
    {
     "data": {
      "text/plain": [
       "20074"
      ]
     },
     "execution_count": 53,
     "metadata": {},
     "output_type": "execute_result"
    }
   ],
   "source": [
    "final_GuangzhouPM.count()"
   ]
  },
  {
   "cell_type": "code",
   "execution_count": 54,
   "metadata": {},
   "outputs": [
    {
     "name": "stdout",
     "output_type": "stream",
     "text": [
      "+-------+------------------+\n",
      "|summary|   PM_City Station|\n",
      "+-------+------------------+\n",
      "|  count|             14103|\n",
      "|   mean|47.236758136566685|\n",
      "| stddev|34.044447809406826|\n",
      "|    min|                 1|\n",
      "|    max|               526|\n",
      "+-------+------------------+\n",
      "\n"
     ]
    }
   ],
   "source": [
    "train_GuangzhouPM.describe().show()"
   ]
  },
  {
   "cell_type": "code",
   "execution_count": 55,
   "metadata": {},
   "outputs": [
    {
     "name": "stdout",
     "output_type": "stream",
     "text": [
      "+-------+------------------+\n",
      "|summary|   PM_City Station|\n",
      "+-------+------------------+\n",
      "|  count|              5970|\n",
      "|   mean|46.483417085427135|\n",
      "| stddev| 33.40845383709739|\n",
      "|    min|                 1|\n",
      "|    max|               327|\n",
      "+-------+------------------+\n",
      "\n"
     ]
    }
   ],
   "source": [
    "test_GuangzhouPM.describe().show()"
   ]
  },
  {
   "cell_type": "code",
   "execution_count": 56,
   "metadata": {},
   "outputs": [],
   "source": [
    "from pyspark.ml.regression import LinearRegression"
   ]
  },
  {
   "cell_type": "code",
   "execution_count": 57,
   "metadata": {},
   "outputs": [],
   "source": [
    "lr = LinearRegression(labelCol='PM_City Station')"
   ]
  },
  {
   "cell_type": "code",
   "execution_count": 58,
   "metadata": {},
   "outputs": [],
   "source": [
    "# Fit the model to the data.\n",
    "lrModel = lr.fit(train_GuangzhouPM)"
   ]
  },
  {
   "cell_type": "code",
   "execution_count": 59,
   "metadata": {},
   "outputs": [
    {
     "name": "stdout",
     "output_type": "stream",
     "text": [
      "Coefficients: [2.331623999310531,-4.272343590444674,1.0093978659329428,0.5497749920905683,3.219985511818568,-0.322513236065348,-0.2572349026420544,-0.5967661157570644] Intercept: -583.2019881463074\n"
     ]
    }
   ],
   "source": [
    "# Print the coefficients and intercept for linear regression.\n",
    "print(\"Coefficients: {} Intercept: {}\".format(lrModel.coefficients,lrModel.intercept))"
   ]
  },
  {
   "cell_type": "code",
   "execution_count": 60,
   "metadata": {},
   "outputs": [],
   "source": [
    "# Evaluate the model against the test data.\n",
    "test_results = lrModel.evaluate(test_GuangzhouPM)"
   ]
  },
  {
   "cell_type": "code",
   "execution_count": 61,
   "metadata": {},
   "outputs": [
    {
     "name": "stdout",
     "output_type": "stream",
     "text": [
      "+-------------------+\n",
      "|          residuals|\n",
      "+-------------------+\n",
      "|  -3.20418699798131|\n",
      "| -4.011456065935022|\n",
      "| -39.38408595436431|\n",
      "|-28.750019376084765|\n",
      "| -32.91154536820898|\n",
      "| -32.03432491843523|\n",
      "| -19.24745684153595|\n",
      "|-28.086963837953817|\n",
      "|-25.067089644871317|\n",
      "| 0.2759744499178396|\n",
      "| -33.80987430616824|\n",
      "|  -8.64402766951821|\n",
      "|  22.18715798029018|\n",
      "|  7.675520436057923|\n",
      "|  3.294293718502786|\n",
      "| 17.849325942693667|\n",
      "| 0.4278462294558949|\n",
      "| 1.7151523767853405|\n",
      "|  1.567463804989643|\n",
      "|-12.130570595499421|\n",
      "+-------------------+\n",
      "only showing top 20 rows\n",
      "\n",
      "RSME: 31.040357210600536\n"
     ]
    }
   ],
   "source": [
    "test_results.residuals.show()\n",
    "print(\"RSME: {}\".format(test_results.rootMeanSquaredError))"
   ]
  },
  {
   "cell_type": "code",
   "execution_count": 62,
   "metadata": {},
   "outputs": [
    {
     "name": "stdout",
     "output_type": "stream",
     "text": [
      "R2: 0.13775199709509933\n"
     ]
    }
   ],
   "source": [
    "print(\"R2: {}\".format(test_results.r2))"
   ]
  },
  {
   "cell_type": "code",
   "execution_count": 63,
   "metadata": {},
   "outputs": [
    {
     "name": "stdout",
     "output_type": "stream",
     "text": [
      "+-------+------------------+\n",
      "|summary|   PM_City Station|\n",
      "+-------+------------------+\n",
      "|  count|             20074|\n",
      "|   mean|47.056241904951676|\n",
      "| stddev|33.895502233084045|\n",
      "|    min|                 1|\n",
      "|    max|               526|\n",
      "+-------+------------------+\n",
      "\n"
     ]
    }
   ],
   "source": [
    "final_GuangzhouPM.describe().show()"
   ]
  },
  {
   "cell_type": "code",
   "execution_count": 64,
   "metadata": {},
   "outputs": [],
   "source": [
    "# Model 2 run - The input columns are the feature column names, and the output column is what you'd like the new column to be named. \n",
    "assembler2 = VectorAssembler(\n",
    "    inputCols=[\"season\", \"HUMI\",'TEMP','Iws','precipitation'],\n",
    "    outputCol=\"features\")"
   ]
  },
  {
   "cell_type": "code",
   "execution_count": 65,
   "metadata": {},
   "outputs": [],
   "source": [
    "output2 = assembler2.transform(GuangzhouPM6_log)"
   ]
  },
  {
   "cell_type": "code",
   "execution_count": 66,
   "metadata": {},
   "outputs": [
    {
     "name": "stdout",
     "output_type": "stream",
     "text": [
      "root\n",
      " |-- year: integer (nullable = true)\n",
      " |-- month: integer (nullable = true)\n",
      " |-- day: integer (nullable = true)\n",
      " |-- hour: integer (nullable = true)\n",
      " |-- season: integer (nullable = true)\n",
      " |-- PM_City Station: integer (nullable = true)\n",
      " |-- DEWP: double (nullable = true)\n",
      " |-- HUMI: integer (nullable = true)\n",
      " |-- PRES: double (nullable = true)\n",
      " |-- TEMP: double (nullable = true)\n",
      " |-- cbwd: string (nullable = true)\n",
      " |-- Iws: double (nullable = true)\n",
      " |-- precipitation: double (nullable = true)\n",
      " |-- Iprec: double (nullable = true)\n",
      " |-- dayTime: string (nullable = true)\n",
      " |-- OutdoorSafeIndex: string (nullable = false)\n",
      " |-- PM_City Station_Log: double (nullable = true)\n",
      " |-- features: vector (nullable = true)\n",
      "\n"
     ]
    }
   ],
   "source": [
    "output2.printSchema()"
   ]
  },
  {
   "cell_type": "code",
   "execution_count": 67,
   "metadata": {},
   "outputs": [
    {
     "name": "stdout",
     "output_type": "stream",
     "text": [
      "+--------------------+---------------+\n",
      "|            features|PM_City Station|\n",
      "+--------------------+---------------+\n",
      "|[4.0,91.0,5.0,1.9...|             83|\n",
      "|[4.0,88.0,6.0,3.4...|             95|\n",
      "|[4.0,76.0,7.5,5.8...|             55|\n",
      "|[4.0,69.0,8.0,8.2...|             60|\n",
      "|[4.0,62.0,8.4,9.0...|             41|\n",
      "|[4.0,66.0,8.3,11....|             42|\n",
      "|[4.0,69.0,8.2,2.0...|             40|\n",
      "|[4.0,61.0,8.8,4.1...|             40|\n",
      "|[4.0,51.0,10.1,6....|             35|\n",
      "|[4.0,52.0,10.8,1....|             42|\n",
      "|[4.0,46.0,12.0,4....|             48|\n",
      "|[4.0,42.0,12.7,1....|             62|\n",
      "|[4.0,44.0,13.1,3....|             51|\n",
      "|[4.0,43.0,13.4,5....|             49|\n",
      "|[4.0,46.0,12.9,7....|             57|\n",
      "|[4.0,52.0,12.6,8....|             60|\n",
      "|[4.0,62.0,12.2,0....|             61|\n",
      "|[4.0,72.0,11.2,1....|             72|\n",
      "|[4.0,76.0,10.8,1....|             53|\n",
      "|[4.0,75.0,10.7,1....|             50|\n",
      "+--------------------+---------------+\n",
      "only showing top 20 rows\n",
      "\n"
     ]
    }
   ],
   "source": [
    "final2_GuangzhouPM = output2.select(\"features\",'PM_City Station')\n",
    "final2_GuangzhouPM.show()"
   ]
  },
  {
   "cell_type": "code",
   "execution_count": 68,
   "metadata": {},
   "outputs": [],
   "source": [
    "lr2 = LinearRegression(labelCol='PM_City Station')"
   ]
  },
  {
   "cell_type": "code",
   "execution_count": 69,
   "metadata": {},
   "outputs": [],
   "source": [
    "# Fit the model to the data.\n",
    "lrModel2 = lr2.fit(train_GuangzhouPM)"
   ]
  },
  {
   "cell_type": "code",
   "execution_count": 70,
   "metadata": {},
   "outputs": [
    {
     "name": "stdout",
     "output_type": "stream",
     "text": [
      "Coefficients: [2.4647624566309085,-3.8822443804175633,0.9140422703492321,0.5190862623483478,2.8497772141422955,-0.333797268821069,-0.11022613373543741,-0.591159214253853] Intercept: -543.8476675626838\n"
     ]
    }
   ],
   "source": [
    "print(\"Coefficients: {} Intercept: {}\".format(lrModel2.coefficients,lrModel2.intercept))"
   ]
  },
  {
   "cell_type": "code",
   "execution_count": 71,
   "metadata": {},
   "outputs": [],
   "source": [
    "test_results2 = lrModel2.evaluate(test_GuangzhouPM)"
   ]
  },
  {
   "cell_type": "code",
   "execution_count": 72,
   "metadata": {},
   "outputs": [
    {
     "name": "stdout",
     "output_type": "stream",
     "text": [
      "+--------------------+\n",
      "|           residuals|\n",
      "+--------------------+\n",
      "| -3.3311571507782674|\n",
      "|   -4.24174688416133|\n",
      "|  -39.45040544089352|\n",
      "| -28.798976923393298|\n",
      "|  -32.99539896994281|\n",
      "| -31.868304371451472|\n",
      "| -19.163389104296698|\n",
      "|  -28.15885760673484|\n",
      "|  -25.08939208803281|\n",
      "|-0.02051765931480...|\n",
      "|  -33.63435207612633|\n",
      "|  22.437284498625104|\n",
      "|   7.374663480567847|\n",
      "|   17.59465002890886|\n",
      "|  1.8586265496143142|\n",
      "| -11.114391172072146|\n",
      "|  -14.84113828505292|\n",
      "| -2.7926532261748207|\n",
      "|    7.88674144641368|\n",
      "|    16.4898688459366|\n",
      "+--------------------+\n",
      "only showing top 20 rows\n",
      "\n",
      "RSME: 30.758775249446746\n"
     ]
    }
   ],
   "source": [
    "test_results2.residuals.show()\n",
    "print(\"RSME: {}\".format(test_results2.rootMeanSquaredError))"
   ]
  },
  {
   "cell_type": "code",
   "execution_count": 73,
   "metadata": {},
   "outputs": [
    {
     "name": "stdout",
     "output_type": "stream",
     "text": [
      "R2: 0.1485799445684457\n"
     ]
    }
   ],
   "source": [
    "print(\"R2: {}\".format(test_results2.r2))"
   ]
  },
  {
   "cell_type": "code",
   "execution_count": 74,
   "metadata": {},
   "outputs": [
    {
     "name": "stdout",
     "output_type": "stream",
     "text": [
      "+-------+------------------+\n",
      "|summary|   PM_City Station|\n",
      "+-------+------------------+\n",
      "|  count|             20074|\n",
      "|   mean|47.056241904951676|\n",
      "| stddev| 33.89550223308404|\n",
      "|    min|                 1|\n",
      "|    max|               526|\n",
      "+-------+------------------+\n",
      "\n"
     ]
    }
   ],
   "source": [
    "final2_GuangzhouPM.describe().show()"
   ]
  },
  {
   "cell_type": "code",
   "execution_count": 75,
   "metadata": {},
   "outputs": [],
   "source": [
    "# Model 3 run - The input columns are the feature column names, and the output column is what you'd like the new column to be named. \n",
    "assembler3 = VectorAssembler(\n",
    "    inputCols=[\"HUMI\",'Iws','precipitation'],\n",
    "    outputCol=\"features\")"
   ]
  },
  {
   "cell_type": "code",
   "execution_count": 76,
   "metadata": {},
   "outputs": [],
   "source": [
    "output3 = assembler3.transform(GuangzhouPM6_log)"
   ]
  },
  {
   "cell_type": "code",
   "execution_count": 77,
   "metadata": {},
   "outputs": [
    {
     "name": "stdout",
     "output_type": "stream",
     "text": [
      "root\n",
      " |-- year: integer (nullable = true)\n",
      " |-- month: integer (nullable = true)\n",
      " |-- day: integer (nullable = true)\n",
      " |-- hour: integer (nullable = true)\n",
      " |-- season: integer (nullable = true)\n",
      " |-- PM_City Station: integer (nullable = true)\n",
      " |-- DEWP: double (nullable = true)\n",
      " |-- HUMI: integer (nullable = true)\n",
      " |-- PRES: double (nullable = true)\n",
      " |-- TEMP: double (nullable = true)\n",
      " |-- cbwd: string (nullable = true)\n",
      " |-- Iws: double (nullable = true)\n",
      " |-- precipitation: double (nullable = true)\n",
      " |-- Iprec: double (nullable = true)\n",
      " |-- dayTime: string (nullable = true)\n",
      " |-- OutdoorSafeIndex: string (nullable = false)\n",
      " |-- PM_City Station_Log: double (nullable = true)\n",
      " |-- features: vector (nullable = true)\n",
      "\n"
     ]
    }
   ],
   "source": [
    "output3.printSchema()"
   ]
  },
  {
   "cell_type": "code",
   "execution_count": 78,
   "metadata": {},
   "outputs": [
    {
     "name": "stdout",
     "output_type": "stream",
     "text": [
      "+---------------+---------------+\n",
      "|       features|PM_City Station|\n",
      "+---------------+---------------+\n",
      "| [91.0,1.9,0.0]|             83|\n",
      "| [88.0,3.4,0.0]|             95|\n",
      "| [76.0,5.8,0.0]|             55|\n",
      "| [69.0,8.2,0.0]|             60|\n",
      "| [62.0,9.0,0.0]|             41|\n",
      "|[66.0,11.4,0.0]|             42|\n",
      "| [69.0,2.0,0.0]|             40|\n",
      "| [61.0,4.1,0.0]|             40|\n",
      "| [51.0,6.0,0.0]|             35|\n",
      "| [52.0,1.1,0.0]|             42|\n",
      "| [46.0,4.1,0.0]|             48|\n",
      "| [42.0,1.5,0.0]|             62|\n",
      "| [44.0,3.7,0.0]|             51|\n",
      "| [43.0,5.5,0.0]|             49|\n",
      "| [46.0,7.1,0.0]|             57|\n",
      "| [52.0,8.5,0.0]|             60|\n",
      "| [62.0,0.0,0.0]|             61|\n",
      "| [72.0,1.2,0.0]|             72|\n",
      "| [76.0,1.4,0.0]|             53|\n",
      "| [75.0,1.2,0.0]|             50|\n",
      "+---------------+---------------+\n",
      "only showing top 20 rows\n",
      "\n"
     ]
    }
   ],
   "source": [
    "final3_GuangzhouPM = output3.select(\"features\",'PM_City Station')\n",
    "final3_GuangzhouPM.show()"
   ]
  },
  {
   "cell_type": "code",
   "execution_count": 79,
   "metadata": {},
   "outputs": [],
   "source": [
    "lr3 = LinearRegression(labelCol='PM_City Station')"
   ]
  },
  {
   "cell_type": "code",
   "execution_count": 80,
   "metadata": {},
   "outputs": [],
   "source": [
    "# Fit the model to the data.\n",
    "lrModel3 = lr3.fit(train_GuangzhouPM)"
   ]
  },
  {
   "cell_type": "code",
   "execution_count": 81,
   "metadata": {},
   "outputs": [
    {
     "name": "stdout",
     "output_type": "stream",
     "text": [
      "Coefficients: [2.291551128754066,-4.173671485985314,0.9619449221891234,0.3935610061538989,3.0089546170313737,-0.35120331416940487,-0.21792544420321722,-0.5897107704817176] Intercept: -419.28633927777895\n"
     ]
    }
   ],
   "source": [
    "print(\"Coefficients: {} Intercept: {}\".format(lrModel3.coefficients,lrModel3.intercept))"
   ]
  },
  {
   "cell_type": "code",
   "execution_count": 82,
   "metadata": {},
   "outputs": [],
   "source": [
    "test_results3 = lrModel3.evaluate(test_GuangzhouPM)"
   ]
  },
  {
   "cell_type": "code",
   "execution_count": 83,
   "metadata": {},
   "outputs": [
    {
     "name": "stdout",
     "output_type": "stream",
     "text": [
      "+-------------------+\n",
      "|          residuals|\n",
      "+-------------------+\n",
      "| -4.070978317064316|\n",
      "| -4.821029933515717|\n",
      "| -39.49125140633896|\n",
      "|-28.693072790880535|\n",
      "|-32.910801943280944|\n",
      "| -31.68077228824012|\n",
      "|-18.641723301024342|\n",
      "|-28.171124576234945|\n",
      "|-25.555423775535132|\n",
      "|-0.3945444619398586|\n",
      "| -33.62462996456014|\n",
      "| -8.269752940273918|\n",
      "| -23.80494211088063|\n",
      "| 1.9277849519028223|\n",
      "|  5.429023733808947|\n",
      "|-18.903494245737022|\n",
      "| 12.817712099790924|\n",
      "| 17.609024297825158|\n",
      "|  1.299765596721386|\n",
      "|-11.158658435294797|\n",
      "+-------------------+\n",
      "only showing top 20 rows\n",
      "\n",
      "RSME: 32.13603334853161\n"
     ]
    }
   ],
   "source": [
    "test_results3.residuals.show()\n",
    "print(\"RSME: {}\".format(test_results3.rootMeanSquaredError))"
   ]
  },
  {
   "cell_type": "code",
   "execution_count": 84,
   "metadata": {},
   "outputs": [
    {
     "name": "stdout",
     "output_type": "stream",
     "text": [
      "R2: 0.1311917479229866\n"
     ]
    }
   ],
   "source": [
    "print(\"R2: {}\".format(test_results3.r2))"
   ]
  },
  {
   "cell_type": "code",
   "execution_count": 85,
   "metadata": {},
   "outputs": [
    {
     "name": "stdout",
     "output_type": "stream",
     "text": [
      "+-------+------------------+\n",
      "|summary|   PM_City Station|\n",
      "+-------+------------------+\n",
      "|  count|             20074|\n",
      "|   mean|47.056241904951676|\n",
      "| stddev|33.895502233084045|\n",
      "|    min|                 1|\n",
      "|    max|               526|\n",
      "+-------+------------------+\n",
      "\n"
     ]
    }
   ],
   "source": [
    "final3_GuangzhouPM.describe().show()"
   ]
  },
  {
   "cell_type": "code",
   "execution_count": 86,
   "metadata": {},
   "outputs": [],
   "source": [
    "# Model 4 run - The input columns are the feature column names, and the output column is what you'd like the new column to be named. \n",
    "assembler4 = VectorAssembler(\n",
    "    inputCols=['precipitation','Iws'],\n",
    "    outputCol=\"features\")"
   ]
  },
  {
   "cell_type": "code",
   "execution_count": 87,
   "metadata": {},
   "outputs": [],
   "source": [
    "output4 = assembler4.transform(GuangzhouPM6_log)"
   ]
  },
  {
   "cell_type": "code",
   "execution_count": 88,
   "metadata": {},
   "outputs": [
    {
     "name": "stdout",
     "output_type": "stream",
     "text": [
      "root\n",
      " |-- year: integer (nullable = true)\n",
      " |-- month: integer (nullable = true)\n",
      " |-- day: integer (nullable = true)\n",
      " |-- hour: integer (nullable = true)\n",
      " |-- season: integer (nullable = true)\n",
      " |-- PM_City Station: integer (nullable = true)\n",
      " |-- DEWP: double (nullable = true)\n",
      " |-- HUMI: integer (nullable = true)\n",
      " |-- PRES: double (nullable = true)\n",
      " |-- TEMP: double (nullable = true)\n",
      " |-- cbwd: string (nullable = true)\n",
      " |-- Iws: double (nullable = true)\n",
      " |-- precipitation: double (nullable = true)\n",
      " |-- Iprec: double (nullable = true)\n",
      " |-- dayTime: string (nullable = true)\n",
      " |-- OutdoorSafeIndex: string (nullable = false)\n",
      " |-- PM_City Station_Log: double (nullable = true)\n",
      " |-- features: vector (nullable = true)\n",
      "\n"
     ]
    }
   ],
   "source": [
    "output4.printSchema()"
   ]
  },
  {
   "cell_type": "code",
   "execution_count": 89,
   "metadata": {},
   "outputs": [
    {
     "name": "stdout",
     "output_type": "stream",
     "text": [
      "+----------+---------------+\n",
      "|  features|PM_City Station|\n",
      "+----------+---------------+\n",
      "| [0.0,1.9]|             83|\n",
      "| [0.0,3.4]|             95|\n",
      "| [0.0,5.8]|             55|\n",
      "| [0.0,8.2]|             60|\n",
      "| [0.0,9.0]|             41|\n",
      "|[0.0,11.4]|             42|\n",
      "| [0.0,2.0]|             40|\n",
      "| [0.0,4.1]|             40|\n",
      "| [0.0,6.0]|             35|\n",
      "| [0.0,1.1]|             42|\n",
      "| [0.0,4.1]|             48|\n",
      "| [0.0,1.5]|             62|\n",
      "| [0.0,3.7]|             51|\n",
      "| [0.0,5.5]|             49|\n",
      "| [0.0,7.1]|             57|\n",
      "| [0.0,8.5]|             60|\n",
      "| (2,[],[])|             61|\n",
      "| [0.0,1.2]|             72|\n",
      "| [0.0,1.4]|             53|\n",
      "| [0.0,1.2]|             50|\n",
      "+----------+---------------+\n",
      "only showing top 20 rows\n",
      "\n"
     ]
    }
   ],
   "source": [
    "final4_GuangzhouPM = output4.select(\"features\",'PM_City Station')\n",
    "final4_GuangzhouPM.show()"
   ]
  },
  {
   "cell_type": "code",
   "execution_count": 90,
   "metadata": {},
   "outputs": [],
   "source": [
    "lr4 = LinearRegression(labelCol='PM_City Station')"
   ]
  },
  {
   "cell_type": "code",
   "execution_count": 91,
   "metadata": {},
   "outputs": [],
   "source": [
    "# Fit the model to the data.\n",
    "lrModel4 = lr4.fit(train_GuangzhouPM)"
   ]
  },
  {
   "cell_type": "code",
   "execution_count": 92,
   "metadata": {},
   "outputs": [
    {
     "name": "stdout",
     "output_type": "stream",
     "text": [
      "Coefficients: [2.3673401530452494,-3.8511714588985795,0.9024104843321618,0.46327326761482795,2.755180477027917,-0.3432336769711092,-0.24283109930316982,-0.5929846992143799] Intercept: -484.8456349398616\n"
     ]
    }
   ],
   "source": [
    "print(\"Coefficients: {} Intercept: {}\".format(lrModel4.coefficients,lrModel4.intercept))"
   ]
  },
  {
   "cell_type": "code",
   "execution_count": 93,
   "metadata": {},
   "outputs": [],
   "source": [
    "test_results4 = lrModel4.evaluate(test_GuangzhouPM)"
   ]
  },
  {
   "cell_type": "code",
   "execution_count": 94,
   "metadata": {},
   "outputs": [
    {
     "name": "stdout",
     "output_type": "stream",
     "text": [
      "+-------------------+\n",
      "|          residuals|\n",
      "+-------------------+\n",
      "| -3.726301197952921|\n",
      "| -4.632185530163383|\n",
      "| -39.83657186290225|\n",
      "| -29.11639241226817|\n",
      "| -33.32702938584089|\n",
      "| -32.12763520019405|\n",
      "| -19.26826306729538|\n",
      "|-28.519752387399535|\n",
      "|-25.656954724643583|\n",
      "|-0.3942544295919106|\n",
      "| -33.96161079876799|\n",
      "|-30.316241135224914|\n",
      "|-25.495069679578364|\n",
      "|-23.833222652236145|\n",
      "|-12.240490723914036|\n",
      "| 21.923235458400086|\n",
      "|-19.313484683688785|\n",
      "|-18.084775414679143|\n",
      "|-19.258661657928315|\n",
      "| 2.1825445518104516|\n",
      "+-------------------+\n",
      "only showing top 20 rows\n",
      "\n",
      "RSME: 31.90915592276164\n"
     ]
    }
   ],
   "source": [
    "test_results4.residuals.show()\n",
    "print(\"RSME: {}\".format(test_results4.rootMeanSquaredError))"
   ]
  },
  {
   "cell_type": "code",
   "execution_count": 95,
   "metadata": {},
   "outputs": [
    {
     "name": "stdout",
     "output_type": "stream",
     "text": [
      "R2: 0.1349437903164884\n"
     ]
    }
   ],
   "source": [
    "print(\"R2: {}\".format(test_results4.r2))"
   ]
  },
  {
   "cell_type": "code",
   "execution_count": 96,
   "metadata": {},
   "outputs": [
    {
     "name": "stdout",
     "output_type": "stream",
     "text": [
      "+-------+------------------+\n",
      "|summary|   PM_City Station|\n",
      "+-------+------------------+\n",
      "|  count|             20074|\n",
      "|   mean|47.056241904951676|\n",
      "| stddev| 33.89550223308403|\n",
      "|    min|                 1|\n",
      "|    max|               526|\n",
      "+-------+------------------+\n",
      "\n"
     ]
    }
   ],
   "source": [
    "final4_GuangzhouPM.describe().show()"
   ]
  },
  {
   "cell_type": "code",
   "execution_count": 97,
   "metadata": {},
   "outputs": [],
   "source": [
    "from pyspark.ml.feature import (VectorAssembler,VectorIndexer,\n",
    "                                OneHotEncoder,StringIndexer)"
   ]
  },
  {
   "cell_type": "code",
   "execution_count": 98,
   "metadata": {},
   "outputs": [],
   "source": [
    "cbwdIndex = StringIndexer(inputCol='cbwd',outputCol='cbwdIndex')\n",
    "\n",
    "# Now we can one hot encode these numbers. This converts the various outputs into a single vector.\n",
    "# This makes it easier to process when you have multiple classes.\n",
    "cbwdEncoder = OneHotEncoder(inputCol='cbwdIndex',outputCol='cbwdVec')"
   ]
  },
  {
   "cell_type": "code",
   "execution_count": 99,
   "metadata": {},
   "outputs": [],
   "source": [
    "#Logistic regression modelling\n",
    "assembler_L1 = VectorAssembler(inputCols=['cbwdVec', 'season','DEWP',\n",
    " 'HUMI',\n",
    " 'TEMP',\n",
    " 'PRES',\n",
    " 'precipitation', 'Iws'],outputCol='features')"
   ]
  },
  {
   "cell_type": "code",
   "execution_count": 100,
   "metadata": {},
   "outputs": [],
   "source": [
    "from pyspark.ml.classification import LogisticRegression"
   ]
  },
  {
   "cell_type": "code",
   "execution_count": 101,
   "metadata": {},
   "outputs": [],
   "source": [
    "from pyspark.ml import Pipeline"
   ]
  },
  {
   "cell_type": "code",
   "execution_count": 102,
   "metadata": {},
   "outputs": [],
   "source": [
    "log_reg_GuangzhouPM6 = LogisticRegression(featuresCol='features',labelCol='PM_City Station')"
   ]
  },
  {
   "cell_type": "code",
   "execution_count": 103,
   "metadata": {},
   "outputs": [],
   "source": [
    "# Lists everything we want to do. Index data, encode data, assemble data and then pass in the actual model.\n",
    "pipeline = Pipeline(stages=[cbwdIndex, cbwdEncoder,assembler_L1,log_reg_GuangzhouPM6])"
   ]
  },
  {
   "cell_type": "code",
   "execution_count": 104,
   "metadata": {},
   "outputs": [],
   "source": [
    "train_Guangzhou_L, test_Guangzhou_L = GuangzhouPM6_log.randomSplit([0.7,.3])"
   ]
  },
  {
   "cell_type": "code",
   "execution_count": 105,
   "metadata": {},
   "outputs": [],
   "source": [
    "fit_model1 = pipeline.fit(train_Guangzhou_L)"
   ]
  },
  {
   "cell_type": "code",
   "execution_count": 107,
   "metadata": {},
   "outputs": [],
   "source": [
    "L_results1 = fit_model1.transform(test_Guangzhou_L)"
   ]
  },
  {
   "cell_type": "code",
   "execution_count": 108,
   "metadata": {},
   "outputs": [],
   "source": [
    "from pyspark.ml.evaluation import BinaryClassificationEvaluator\n",
    "\n",
    "my_eval = BinaryClassificationEvaluator(rawPredictionCol='prediction',\n",
    "                                       labelCol='PM_City Station')"
   ]
  },
  {
   "cell_type": "code",
   "execution_count": 109,
   "metadata": {},
   "outputs": [
    {
     "name": "stdout",
     "output_type": "stream",
     "text": [
      "+---------------+----------+\n",
      "|PM_City Station|prediction|\n",
      "+---------------+----------+\n",
      "|             83|      56.0|\n",
      "|             55|      56.0|\n",
      "|             40|      48.0|\n",
      "|             54|      48.0|\n",
      "|             66|      56.0|\n",
      "|             65|      56.0|\n",
      "|             63|      56.0|\n",
      "|             82|      48.0|\n",
      "|             69|      38.0|\n",
      "|             62|      48.0|\n",
      "|             59|      48.0|\n",
      "|             61|      48.0|\n",
      "|             66|      48.0|\n",
      "|             53|      39.0|\n",
      "|             49|      39.0|\n",
      "|             85|      39.0|\n",
      "|             61|      39.0|\n",
      "|             49|      43.0|\n",
      "|             43|      56.0|\n",
      "|             39|      56.0|\n",
      "+---------------+----------+\n",
      "only showing top 20 rows\n",
      "\n"
     ]
    }
   ],
   "source": [
    "L_results1.select('PM_City Station','prediction').show()"
   ]
  },
  {
   "cell_type": "code",
   "execution_count": 110,
   "metadata": {},
   "outputs": [
    {
     "data": {
      "text/plain": [
       "1.0"
      ]
     },
     "execution_count": 110,
     "metadata": {},
     "output_type": "execute_result"
    }
   ],
   "source": [
    "# We can then evaluate using AUC (area under the curve). AUC is linked to ROC.\n",
    "AUC = my_eval.evaluate(L_results1)\n",
    "\n",
    "AUC"
   ]
  },
  {
   "cell_type": "code",
   "execution_count": 125,
   "metadata": {},
   "outputs": [
    {
     "name": "stderr",
     "output_type": "stream",
     "text": [
      "ERROR:py4j.java_gateway:An error occurred while trying to connect to the Java server (127.0.0.1:37249)\n",
      "Traceback (most recent call last):\n",
      "  File \"/home/ubuntu/spark-2.1.1-bin-hadoop2.7/python/lib/py4j-0.10.4-src.zip/py4j/java_gateway.py\", line 827, in _get_connection\n",
      "    connection = self.deque.pop()\n",
      "IndexError: pop from an empty deque\n",
      "\n",
      "During handling of the above exception, another exception occurred:\n",
      "\n",
      "Traceback (most recent call last):\n",
      "  File \"/home/ubuntu/spark-2.1.1-bin-hadoop2.7/python/lib/py4j-0.10.4-src.zip/py4j/java_gateway.py\", line 963, in start\n",
      "    self.socket.connect((self.address, self.port))\n",
      "ConnectionRefusedError: [Errno 111] Connection refused\n"
     ]
    },
    {
     "ename": "Py4JNetworkError",
     "evalue": "An error occurred while trying to connect to the Java server (127.0.0.1:37249)",
     "output_type": "error",
     "traceback": [
      "\u001b[0;31m---------------------------------------------------------------------------\u001b[0m",
      "\u001b[0;31mIndexError\u001b[0m                                Traceback (most recent call last)",
      "\u001b[0;32m~/spark-2.1.1-bin-hadoop2.7/python/lib/py4j-0.10.4-src.zip/py4j/java_gateway.py\u001b[0m in \u001b[0;36m_get_connection\u001b[0;34m(self)\u001b[0m\n\u001b[1;32m    826\u001b[0m         \u001b[0;32mtry\u001b[0m\u001b[0;34m:\u001b[0m\u001b[0;34m\u001b[0m\u001b[0m\n\u001b[0;32m--> 827\u001b[0;31m             \u001b[0mconnection\u001b[0m \u001b[0;34m=\u001b[0m \u001b[0mself\u001b[0m\u001b[0;34m.\u001b[0m\u001b[0mdeque\u001b[0m\u001b[0;34m.\u001b[0m\u001b[0mpop\u001b[0m\u001b[0;34m(\u001b[0m\u001b[0;34m)\u001b[0m\u001b[0;34m\u001b[0m\u001b[0m\n\u001b[0m\u001b[1;32m    828\u001b[0m         \u001b[0;32mexcept\u001b[0m \u001b[0mIndexError\u001b[0m\u001b[0;34m:\u001b[0m\u001b[0;34m\u001b[0m\u001b[0m\n",
      "\u001b[0;31mIndexError\u001b[0m: pop from an empty deque",
      "\nDuring handling of the above exception, another exception occurred:\n",
      "\u001b[0;31mConnectionRefusedError\u001b[0m                    Traceback (most recent call last)",
      "\u001b[0;32m~/spark-2.1.1-bin-hadoop2.7/python/lib/py4j-0.10.4-src.zip/py4j/java_gateway.py\u001b[0m in \u001b[0;36mstart\u001b[0;34m(self)\u001b[0m\n\u001b[1;32m    962\u001b[0m         \u001b[0;32mtry\u001b[0m\u001b[0;34m:\u001b[0m\u001b[0;34m\u001b[0m\u001b[0m\n\u001b[0;32m--> 963\u001b[0;31m             \u001b[0mself\u001b[0m\u001b[0;34m.\u001b[0m\u001b[0msocket\u001b[0m\u001b[0;34m.\u001b[0m\u001b[0mconnect\u001b[0m\u001b[0;34m(\u001b[0m\u001b[0;34m(\u001b[0m\u001b[0mself\u001b[0m\u001b[0;34m.\u001b[0m\u001b[0maddress\u001b[0m\u001b[0;34m,\u001b[0m \u001b[0mself\u001b[0m\u001b[0;34m.\u001b[0m\u001b[0mport\u001b[0m\u001b[0;34m)\u001b[0m\u001b[0;34m)\u001b[0m\u001b[0;34m\u001b[0m\u001b[0m\n\u001b[0m\u001b[1;32m    964\u001b[0m             \u001b[0mself\u001b[0m\u001b[0;34m.\u001b[0m\u001b[0mis_connected\u001b[0m \u001b[0;34m=\u001b[0m \u001b[0;32mTrue\u001b[0m\u001b[0;34m\u001b[0m\u001b[0m\n",
      "\u001b[0;31mConnectionRefusedError\u001b[0m: [Errno 111] Connection refused",
      "\nDuring handling of the above exception, another exception occurred:\n",
      "\u001b[0;31mPy4JNetworkError\u001b[0m                          Traceback (most recent call last)",
      "\u001b[0;32m<ipython-input-125-d8debf682d21>\u001b[0m in \u001b[0;36m<module>\u001b[0;34m()\u001b[0m\n\u001b[0;32m----> 1\u001b[0;31m \u001b[0mtotalResults\u001b[0m \u001b[0;34m=\u001b[0m \u001b[0mL_results1\u001b[0m\u001b[0;34m.\u001b[0m\u001b[0mselect\u001b[0m\u001b[0;34m(\u001b[0m\u001b[0;34m'PM_City Station'\u001b[0m\u001b[0;34m,\u001b[0m\u001b[0;34m'prediction'\u001b[0m\u001b[0;34m)\u001b[0m\u001b[0;34m\u001b[0m\u001b[0m\n\u001b[0m\u001b[1;32m      2\u001b[0m \u001b[0;34m\u001b[0m\u001b[0m\n\u001b[1;32m      3\u001b[0m \u001b[0mcorrectResults\u001b[0m \u001b[0;34m=\u001b[0m \u001b[0mtotalResults\u001b[0m\u001b[0;34m.\u001b[0m\u001b[0mfilter\u001b[0m\u001b[0;34m(\u001b[0m\u001b[0mtotalResults\u001b[0m\u001b[0;34m[\u001b[0m\u001b[0;34m'PM_City Station'\u001b[0m\u001b[0;34m]\u001b[0m \u001b[0;34m==\u001b[0m \u001b[0mtotalResults\u001b[0m\u001b[0;34m[\u001b[0m\u001b[0;34m'prediction'\u001b[0m\u001b[0;34m]\u001b[0m\u001b[0;34m)\u001b[0m\u001b[0;34m\u001b[0m\u001b[0m\n\u001b[1;32m      4\u001b[0m \u001b[0;34m\u001b[0m\u001b[0m\n\u001b[1;32m      5\u001b[0m \u001b[0mcountTR\u001b[0m \u001b[0;34m=\u001b[0m \u001b[0mtotalResults\u001b[0m\u001b[0;34m.\u001b[0m\u001b[0mcount\u001b[0m\u001b[0;34m(\u001b[0m\u001b[0;34m)\u001b[0m\u001b[0;34m\u001b[0m\u001b[0m\n",
      "\u001b[0;32m~/spark-2.1.1-bin-hadoop2.7/python/pyspark/sql/dataframe.py\u001b[0m in \u001b[0;36mselect\u001b[0;34m(self, *cols)\u001b[0m\n\u001b[1;32m    991\u001b[0m         \u001b[0;34m[\u001b[0m\u001b[0mRow\u001b[0m\u001b[0;34m(\u001b[0m\u001b[0mname\u001b[0m\u001b[0;34m=\u001b[0m\u001b[0;34mu'Alice'\u001b[0m\u001b[0;34m,\u001b[0m \u001b[0mage\u001b[0m\u001b[0;34m=\u001b[0m\u001b[0;36m12\u001b[0m\u001b[0;34m)\u001b[0m\u001b[0;34m,\u001b[0m \u001b[0mRow\u001b[0m\u001b[0;34m(\u001b[0m\u001b[0mname\u001b[0m\u001b[0;34m=\u001b[0m\u001b[0;34mu'Bob'\u001b[0m\u001b[0;34m,\u001b[0m \u001b[0mage\u001b[0m\u001b[0;34m=\u001b[0m\u001b[0;36m15\u001b[0m\u001b[0;34m)\u001b[0m\u001b[0;34m]\u001b[0m\u001b[0;34m\u001b[0m\u001b[0m\n\u001b[1;32m    992\u001b[0m         \"\"\"\n\u001b[0;32m--> 993\u001b[0;31m         \u001b[0mjdf\u001b[0m \u001b[0;34m=\u001b[0m \u001b[0mself\u001b[0m\u001b[0;34m.\u001b[0m\u001b[0m_jdf\u001b[0m\u001b[0;34m.\u001b[0m\u001b[0mselect\u001b[0m\u001b[0;34m(\u001b[0m\u001b[0mself\u001b[0m\u001b[0;34m.\u001b[0m\u001b[0m_jcols\u001b[0m\u001b[0;34m(\u001b[0m\u001b[0;34m*\u001b[0m\u001b[0mcols\u001b[0m\u001b[0;34m)\u001b[0m\u001b[0;34m)\u001b[0m\u001b[0;34m\u001b[0m\u001b[0m\n\u001b[0m\u001b[1;32m    994\u001b[0m         \u001b[0;32mreturn\u001b[0m \u001b[0mDataFrame\u001b[0m\u001b[0;34m(\u001b[0m\u001b[0mjdf\u001b[0m\u001b[0;34m,\u001b[0m \u001b[0mself\u001b[0m\u001b[0;34m.\u001b[0m\u001b[0msql_ctx\u001b[0m\u001b[0;34m)\u001b[0m\u001b[0;34m\u001b[0m\u001b[0m\n\u001b[1;32m    995\u001b[0m \u001b[0;34m\u001b[0m\u001b[0m\n",
      "\u001b[0;32m~/spark-2.1.1-bin-hadoop2.7/python/pyspark/sql/dataframe.py\u001b[0m in \u001b[0;36m_jcols\u001b[0;34m(self, *cols)\u001b[0m\n\u001b[1;32m    846\u001b[0m         \u001b[0;32mif\u001b[0m \u001b[0mlen\u001b[0m\u001b[0;34m(\u001b[0m\u001b[0mcols\u001b[0m\u001b[0;34m)\u001b[0m \u001b[0;34m==\u001b[0m \u001b[0;36m1\u001b[0m \u001b[0;32mand\u001b[0m \u001b[0misinstance\u001b[0m\u001b[0;34m(\u001b[0m\u001b[0mcols\u001b[0m\u001b[0;34m[\u001b[0m\u001b[0;36m0\u001b[0m\u001b[0;34m]\u001b[0m\u001b[0;34m,\u001b[0m \u001b[0mlist\u001b[0m\u001b[0;34m)\u001b[0m\u001b[0;34m:\u001b[0m\u001b[0;34m\u001b[0m\u001b[0m\n\u001b[1;32m    847\u001b[0m             \u001b[0mcols\u001b[0m \u001b[0;34m=\u001b[0m \u001b[0mcols\u001b[0m\u001b[0;34m[\u001b[0m\u001b[0;36m0\u001b[0m\u001b[0;34m]\u001b[0m\u001b[0;34m\u001b[0m\u001b[0m\n\u001b[0;32m--> 848\u001b[0;31m         \u001b[0;32mreturn\u001b[0m \u001b[0mself\u001b[0m\u001b[0;34m.\u001b[0m\u001b[0m_jseq\u001b[0m\u001b[0;34m(\u001b[0m\u001b[0mcols\u001b[0m\u001b[0;34m,\u001b[0m \u001b[0m_to_java_column\u001b[0m\u001b[0;34m)\u001b[0m\u001b[0;34m\u001b[0m\u001b[0m\n\u001b[0m\u001b[1;32m    849\u001b[0m \u001b[0;34m\u001b[0m\u001b[0m\n\u001b[1;32m    850\u001b[0m     \u001b[0;32mdef\u001b[0m \u001b[0m_sort_cols\u001b[0m\u001b[0;34m(\u001b[0m\u001b[0mself\u001b[0m\u001b[0;34m,\u001b[0m \u001b[0mcols\u001b[0m\u001b[0;34m,\u001b[0m \u001b[0mkwargs\u001b[0m\u001b[0;34m)\u001b[0m\u001b[0;34m:\u001b[0m\u001b[0;34m\u001b[0m\u001b[0m\n",
      "\u001b[0;32m~/spark-2.1.1-bin-hadoop2.7/python/pyspark/sql/dataframe.py\u001b[0m in \u001b[0;36m_jseq\u001b[0;34m(self, cols, converter)\u001b[0m\n\u001b[1;32m    833\u001b[0m     \u001b[0;32mdef\u001b[0m \u001b[0m_jseq\u001b[0m\u001b[0;34m(\u001b[0m\u001b[0mself\u001b[0m\u001b[0;34m,\u001b[0m \u001b[0mcols\u001b[0m\u001b[0;34m,\u001b[0m \u001b[0mconverter\u001b[0m\u001b[0;34m=\u001b[0m\u001b[0;32mNone\u001b[0m\u001b[0;34m)\u001b[0m\u001b[0;34m:\u001b[0m\u001b[0;34m\u001b[0m\u001b[0m\n\u001b[1;32m    834\u001b[0m         \u001b[0;34m\"\"\"Return a JVM Seq of Columns from a list of Column or names\"\"\"\u001b[0m\u001b[0;34m\u001b[0m\u001b[0m\n\u001b[0;32m--> 835\u001b[0;31m         \u001b[0;32mreturn\u001b[0m \u001b[0m_to_seq\u001b[0m\u001b[0;34m(\u001b[0m\u001b[0mself\u001b[0m\u001b[0;34m.\u001b[0m\u001b[0msql_ctx\u001b[0m\u001b[0;34m.\u001b[0m\u001b[0m_sc\u001b[0m\u001b[0;34m,\u001b[0m \u001b[0mcols\u001b[0m\u001b[0;34m,\u001b[0m \u001b[0mconverter\u001b[0m\u001b[0;34m)\u001b[0m\u001b[0;34m\u001b[0m\u001b[0m\n\u001b[0m\u001b[1;32m    836\u001b[0m \u001b[0;34m\u001b[0m\u001b[0m\n\u001b[1;32m    837\u001b[0m     \u001b[0;32mdef\u001b[0m \u001b[0m_jmap\u001b[0m\u001b[0;34m(\u001b[0m\u001b[0mself\u001b[0m\u001b[0;34m,\u001b[0m \u001b[0mjm\u001b[0m\u001b[0;34m)\u001b[0m\u001b[0;34m:\u001b[0m\u001b[0;34m\u001b[0m\u001b[0m\n",
      "\u001b[0;32m~/spark-2.1.1-bin-hadoop2.7/python/pyspark/sql/column.py\u001b[0m in \u001b[0;36m_to_seq\u001b[0;34m(sc, cols, converter)\u001b[0m\n\u001b[1;32m     57\u001b[0m     \"\"\"\n\u001b[1;32m     58\u001b[0m     \u001b[0;32mif\u001b[0m \u001b[0mconverter\u001b[0m\u001b[0;34m:\u001b[0m\u001b[0;34m\u001b[0m\u001b[0m\n\u001b[0;32m---> 59\u001b[0;31m         \u001b[0mcols\u001b[0m \u001b[0;34m=\u001b[0m \u001b[0;34m[\u001b[0m\u001b[0mconverter\u001b[0m\u001b[0;34m(\u001b[0m\u001b[0mc\u001b[0m\u001b[0;34m)\u001b[0m \u001b[0;32mfor\u001b[0m \u001b[0mc\u001b[0m \u001b[0;32min\u001b[0m \u001b[0mcols\u001b[0m\u001b[0;34m]\u001b[0m\u001b[0;34m\u001b[0m\u001b[0m\n\u001b[0m\u001b[1;32m     60\u001b[0m     \u001b[0;32mreturn\u001b[0m \u001b[0msc\u001b[0m\u001b[0;34m.\u001b[0m\u001b[0m_jvm\u001b[0m\u001b[0;34m.\u001b[0m\u001b[0mPythonUtils\u001b[0m\u001b[0;34m.\u001b[0m\u001b[0mtoSeq\u001b[0m\u001b[0;34m(\u001b[0m\u001b[0mcols\u001b[0m\u001b[0;34m)\u001b[0m\u001b[0;34m\u001b[0m\u001b[0m\n\u001b[1;32m     61\u001b[0m \u001b[0;34m\u001b[0m\u001b[0m\n",
      "\u001b[0;32m~/spark-2.1.1-bin-hadoop2.7/python/pyspark/sql/column.py\u001b[0m in \u001b[0;36m<listcomp>\u001b[0;34m(.0)\u001b[0m\n\u001b[1;32m     57\u001b[0m     \"\"\"\n\u001b[1;32m     58\u001b[0m     \u001b[0;32mif\u001b[0m \u001b[0mconverter\u001b[0m\u001b[0;34m:\u001b[0m\u001b[0;34m\u001b[0m\u001b[0m\n\u001b[0;32m---> 59\u001b[0;31m         \u001b[0mcols\u001b[0m \u001b[0;34m=\u001b[0m \u001b[0;34m[\u001b[0m\u001b[0mconverter\u001b[0m\u001b[0;34m(\u001b[0m\u001b[0mc\u001b[0m\u001b[0;34m)\u001b[0m \u001b[0;32mfor\u001b[0m \u001b[0mc\u001b[0m \u001b[0;32min\u001b[0m \u001b[0mcols\u001b[0m\u001b[0;34m]\u001b[0m\u001b[0;34m\u001b[0m\u001b[0m\n\u001b[0m\u001b[1;32m     60\u001b[0m     \u001b[0;32mreturn\u001b[0m \u001b[0msc\u001b[0m\u001b[0;34m.\u001b[0m\u001b[0m_jvm\u001b[0m\u001b[0;34m.\u001b[0m\u001b[0mPythonUtils\u001b[0m\u001b[0;34m.\u001b[0m\u001b[0mtoSeq\u001b[0m\u001b[0;34m(\u001b[0m\u001b[0mcols\u001b[0m\u001b[0;34m)\u001b[0m\u001b[0;34m\u001b[0m\u001b[0m\n\u001b[1;32m     61\u001b[0m \u001b[0;34m\u001b[0m\u001b[0m\n",
      "\u001b[0;32m~/spark-2.1.1-bin-hadoop2.7/python/pyspark/sql/column.py\u001b[0m in \u001b[0;36m_to_java_column\u001b[0;34m(col)\u001b[0m\n\u001b[1;32m     45\u001b[0m         \u001b[0mjcol\u001b[0m \u001b[0;34m=\u001b[0m \u001b[0mcol\u001b[0m\u001b[0;34m.\u001b[0m\u001b[0m_jc\u001b[0m\u001b[0;34m\u001b[0m\u001b[0m\n\u001b[1;32m     46\u001b[0m     \u001b[0;32melse\u001b[0m\u001b[0;34m:\u001b[0m\u001b[0;34m\u001b[0m\u001b[0m\n\u001b[0;32m---> 47\u001b[0;31m         \u001b[0mjcol\u001b[0m \u001b[0;34m=\u001b[0m \u001b[0m_create_column_from_name\u001b[0m\u001b[0;34m(\u001b[0m\u001b[0mcol\u001b[0m\u001b[0;34m)\u001b[0m\u001b[0;34m\u001b[0m\u001b[0m\n\u001b[0m\u001b[1;32m     48\u001b[0m     \u001b[0;32mreturn\u001b[0m \u001b[0mjcol\u001b[0m\u001b[0;34m\u001b[0m\u001b[0m\n\u001b[1;32m     49\u001b[0m \u001b[0;34m\u001b[0m\u001b[0m\n",
      "\u001b[0;32m~/spark-2.1.1-bin-hadoop2.7/python/pyspark/sql/column.py\u001b[0m in \u001b[0;36m_create_column_from_name\u001b[0;34m(name)\u001b[0m\n\u001b[1;32m     38\u001b[0m \u001b[0;32mdef\u001b[0m \u001b[0m_create_column_from_name\u001b[0m\u001b[0;34m(\u001b[0m\u001b[0mname\u001b[0m\u001b[0;34m)\u001b[0m\u001b[0;34m:\u001b[0m\u001b[0;34m\u001b[0m\u001b[0m\n\u001b[1;32m     39\u001b[0m     \u001b[0msc\u001b[0m \u001b[0;34m=\u001b[0m \u001b[0mSparkContext\u001b[0m\u001b[0;34m.\u001b[0m\u001b[0m_active_spark_context\u001b[0m\u001b[0;34m\u001b[0m\u001b[0m\n\u001b[0;32m---> 40\u001b[0;31m     \u001b[0;32mreturn\u001b[0m \u001b[0msc\u001b[0m\u001b[0;34m.\u001b[0m\u001b[0m_jvm\u001b[0m\u001b[0;34m.\u001b[0m\u001b[0mfunctions\u001b[0m\u001b[0;34m.\u001b[0m\u001b[0mcol\u001b[0m\u001b[0;34m(\u001b[0m\u001b[0mname\u001b[0m\u001b[0;34m)\u001b[0m\u001b[0;34m\u001b[0m\u001b[0m\n\u001b[0m\u001b[1;32m     41\u001b[0m \u001b[0;34m\u001b[0m\u001b[0m\n\u001b[1;32m     42\u001b[0m \u001b[0;34m\u001b[0m\u001b[0m\n",
      "\u001b[0;32m~/spark-2.1.1-bin-hadoop2.7/python/lib/py4j-0.10.4-src.zip/py4j/java_gateway.py\u001b[0m in \u001b[0;36m__getattr__\u001b[0;34m(self, name)\u001b[0m\n\u001b[1;32m   1523\u001b[0m             \u001b[0mproto\u001b[0m\u001b[0;34m.\u001b[0m\u001b[0mREFLECTION_COMMAND_NAME\u001b[0m \u001b[0;34m+\u001b[0m\u001b[0;34m\u001b[0m\u001b[0m\n\u001b[1;32m   1524\u001b[0m             \u001b[0mproto\u001b[0m\u001b[0;34m.\u001b[0m\u001b[0mREFL_GET_UNKNOWN_SUB_COMMAND_NAME\u001b[0m \u001b[0;34m+\u001b[0m \u001b[0mname\u001b[0m \u001b[0;34m+\u001b[0m \u001b[0;34m\"\\n\"\u001b[0m \u001b[0;34m+\u001b[0m \u001b[0mself\u001b[0m\u001b[0;34m.\u001b[0m\u001b[0m_id\u001b[0m \u001b[0;34m+\u001b[0m\u001b[0;34m\u001b[0m\u001b[0m\n\u001b[0;32m-> 1525\u001b[0;31m             \"\\n\" + proto.END_COMMAND_PART)\n\u001b[0m\u001b[1;32m   1526\u001b[0m         \u001b[0;32mif\u001b[0m \u001b[0manswer\u001b[0m \u001b[0;34m==\u001b[0m \u001b[0mproto\u001b[0m\u001b[0;34m.\u001b[0m\u001b[0mSUCCESS_PACKAGE\u001b[0m\u001b[0;34m:\u001b[0m\u001b[0;34m\u001b[0m\u001b[0m\n\u001b[1;32m   1527\u001b[0m             \u001b[0;32mreturn\u001b[0m \u001b[0mJavaPackage\u001b[0m\u001b[0;34m(\u001b[0m\u001b[0mname\u001b[0m\u001b[0;34m,\u001b[0m \u001b[0mself\u001b[0m\u001b[0;34m.\u001b[0m\u001b[0m_gateway_client\u001b[0m\u001b[0;34m,\u001b[0m \u001b[0mjvm_id\u001b[0m\u001b[0;34m=\u001b[0m\u001b[0mself\u001b[0m\u001b[0;34m.\u001b[0m\u001b[0m_id\u001b[0m\u001b[0;34m)\u001b[0m\u001b[0;34m\u001b[0m\u001b[0m\n",
      "\u001b[0;32m~/spark-2.1.1-bin-hadoop2.7/python/lib/py4j-0.10.4-src.zip/py4j/java_gateway.py\u001b[0m in \u001b[0;36msend_command\u001b[0;34m(self, command, retry, binary)\u001b[0m\n\u001b[1;32m    879\u001b[0m          \u001b[0;32mif\u001b[0m\u001b[0;31m \u001b[0m\u001b[0;31m`\u001b[0m\u001b[0mbinary\u001b[0m\u001b[0;31m`\u001b[0m \u001b[0;32mis\u001b[0m\u001b[0;31m \u001b[0m\u001b[0;31m`\u001b[0m\u001b[0;32mTrue\u001b[0m\u001b[0;31m`\u001b[0m\u001b[0;34m.\u001b[0m\u001b[0;34m\u001b[0m\u001b[0m\n\u001b[1;32m    880\u001b[0m         \"\"\"\n\u001b[0;32m--> 881\u001b[0;31m         \u001b[0mconnection\u001b[0m \u001b[0;34m=\u001b[0m \u001b[0mself\u001b[0m\u001b[0;34m.\u001b[0m\u001b[0m_get_connection\u001b[0m\u001b[0;34m(\u001b[0m\u001b[0;34m)\u001b[0m\u001b[0;34m\u001b[0m\u001b[0m\n\u001b[0m\u001b[1;32m    882\u001b[0m         \u001b[0;32mtry\u001b[0m\u001b[0;34m:\u001b[0m\u001b[0;34m\u001b[0m\u001b[0m\n\u001b[1;32m    883\u001b[0m             \u001b[0mresponse\u001b[0m \u001b[0;34m=\u001b[0m \u001b[0mconnection\u001b[0m\u001b[0;34m.\u001b[0m\u001b[0msend_command\u001b[0m\u001b[0;34m(\u001b[0m\u001b[0mcommand\u001b[0m\u001b[0;34m)\u001b[0m\u001b[0;34m\u001b[0m\u001b[0m\n",
      "\u001b[0;32m~/spark-2.1.1-bin-hadoop2.7/python/lib/py4j-0.10.4-src.zip/py4j/java_gateway.py\u001b[0m in \u001b[0;36m_get_connection\u001b[0;34m(self)\u001b[0m\n\u001b[1;32m    827\u001b[0m             \u001b[0mconnection\u001b[0m \u001b[0;34m=\u001b[0m \u001b[0mself\u001b[0m\u001b[0;34m.\u001b[0m\u001b[0mdeque\u001b[0m\u001b[0;34m.\u001b[0m\u001b[0mpop\u001b[0m\u001b[0;34m(\u001b[0m\u001b[0;34m)\u001b[0m\u001b[0;34m\u001b[0m\u001b[0m\n\u001b[1;32m    828\u001b[0m         \u001b[0;32mexcept\u001b[0m \u001b[0mIndexError\u001b[0m\u001b[0;34m:\u001b[0m\u001b[0;34m\u001b[0m\u001b[0m\n\u001b[0;32m--> 829\u001b[0;31m             \u001b[0mconnection\u001b[0m \u001b[0;34m=\u001b[0m \u001b[0mself\u001b[0m\u001b[0;34m.\u001b[0m\u001b[0m_create_connection\u001b[0m\u001b[0;34m(\u001b[0m\u001b[0;34m)\u001b[0m\u001b[0;34m\u001b[0m\u001b[0m\n\u001b[0m\u001b[1;32m    830\u001b[0m         \u001b[0;32mreturn\u001b[0m \u001b[0mconnection\u001b[0m\u001b[0;34m\u001b[0m\u001b[0m\n\u001b[1;32m    831\u001b[0m \u001b[0;34m\u001b[0m\u001b[0m\n",
      "\u001b[0;32m~/spark-2.1.1-bin-hadoop2.7/python/lib/py4j-0.10.4-src.zip/py4j/java_gateway.py\u001b[0m in \u001b[0;36m_create_connection\u001b[0;34m(self)\u001b[0m\n\u001b[1;32m    833\u001b[0m         connection = GatewayConnection(\n\u001b[1;32m    834\u001b[0m             self.gateway_parameters, self.gateway_property)\n\u001b[0;32m--> 835\u001b[0;31m         \u001b[0mconnection\u001b[0m\u001b[0;34m.\u001b[0m\u001b[0mstart\u001b[0m\u001b[0;34m(\u001b[0m\u001b[0;34m)\u001b[0m\u001b[0;34m\u001b[0m\u001b[0m\n\u001b[0m\u001b[1;32m    836\u001b[0m         \u001b[0;32mreturn\u001b[0m \u001b[0mconnection\u001b[0m\u001b[0;34m\u001b[0m\u001b[0m\n\u001b[1;32m    837\u001b[0m \u001b[0;34m\u001b[0m\u001b[0m\n",
      "\u001b[0;32m~/spark-2.1.1-bin-hadoop2.7/python/lib/py4j-0.10.4-src.zip/py4j/java_gateway.py\u001b[0m in \u001b[0;36mstart\u001b[0;34m(self)\u001b[0m\n\u001b[1;32m    968\u001b[0m                 \u001b[0;34m\"server ({0}:{1})\"\u001b[0m\u001b[0;34m.\u001b[0m\u001b[0mformat\u001b[0m\u001b[0;34m(\u001b[0m\u001b[0mself\u001b[0m\u001b[0;34m.\u001b[0m\u001b[0maddress\u001b[0m\u001b[0;34m,\u001b[0m \u001b[0mself\u001b[0m\u001b[0;34m.\u001b[0m\u001b[0mport\u001b[0m\u001b[0;34m)\u001b[0m\u001b[0;34m\u001b[0m\u001b[0m\n\u001b[1;32m    969\u001b[0m             \u001b[0mlogger\u001b[0m\u001b[0;34m.\u001b[0m\u001b[0mexception\u001b[0m\u001b[0;34m(\u001b[0m\u001b[0mmsg\u001b[0m\u001b[0;34m)\u001b[0m\u001b[0;34m\u001b[0m\u001b[0m\n\u001b[0;32m--> 970\u001b[0;31m             \u001b[0;32mraise\u001b[0m \u001b[0mPy4JNetworkError\u001b[0m\u001b[0;34m(\u001b[0m\u001b[0mmsg\u001b[0m\u001b[0;34m,\u001b[0m \u001b[0me\u001b[0m\u001b[0;34m)\u001b[0m\u001b[0;34m\u001b[0m\u001b[0m\n\u001b[0m\u001b[1;32m    971\u001b[0m \u001b[0;34m\u001b[0m\u001b[0m\n\u001b[1;32m    972\u001b[0m     \u001b[0;32mdef\u001b[0m \u001b[0mclose\u001b[0m\u001b[0;34m(\u001b[0m\u001b[0mself\u001b[0m\u001b[0;34m,\u001b[0m \u001b[0mreset\u001b[0m\u001b[0;34m=\u001b[0m\u001b[0;32mFalse\u001b[0m\u001b[0;34m)\u001b[0m\u001b[0;34m:\u001b[0m\u001b[0;34m\u001b[0m\u001b[0m\n",
      "\u001b[0;31mPy4JNetworkError\u001b[0m: An error occurred while trying to connect to the Java server (127.0.0.1:37249)"
     ]
    }
   ],
   "source": [
    "totalResults = L_results1.select('PM_City Station','prediction')\n",
    "\n",
    "correctResults = totalResults.filter(totalResults['PM_City Station'] == totalResults['prediction'])\n",
    "\n",
    "countTR = totalResults.count()\n",
    "print(\"Correct: \" + str(countTR))\n",
    "\n",
    "countTC = correctResults.count()\n",
    "print(\"Total Correct: \" + str(countTC))"
   ]
  },
  {
   "cell_type": "code",
   "execution_count": 113,
   "metadata": {},
   "outputs": [],
   "source": [
    "assembler_L2 = VectorAssembler(inputCols=['cbwdVec', 'season',\n",
    " 'HUMI',\n",
    " 'TEMP',\n",
    " 'precipitation', 'Iws'],outputCol='features')"
   ]
  },
  {
   "cell_type": "code",
   "execution_count": 114,
   "metadata": {},
   "outputs": [],
   "source": [
    "log_reg2 = LogisticRegression(featuresCol='features',labelCol='PM_City Station')"
   ]
  },
  {
   "cell_type": "code",
   "execution_count": 115,
   "metadata": {},
   "outputs": [],
   "source": [
    "pipeline2 = Pipeline(stages=[cbwdIndex, cbwdEncoder,assembler_L1,log_reg_GuangzhouPM6])"
   ]
  },
  {
   "cell_type": "code",
   "execution_count": 116,
   "metadata": {},
   "outputs": [],
   "source": [
    "fit_model2 = pipeline2.fit(train_Guangzhou_L)"
   ]
  },
  {
   "cell_type": "code",
   "execution_count": 117,
   "metadata": {},
   "outputs": [],
   "source": [
    "L_results2 = fit_model2.transform(test_Guangzhou_L)"
   ]
  },
  {
   "cell_type": "code",
   "execution_count": 118,
   "metadata": {},
   "outputs": [],
   "source": [
    "my_eval2 = BinaryClassificationEvaluator(rawPredictionCol='prediction',\n",
    "                                       labelCol='PM_City Station')"
   ]
  }
 ],
 "metadata": {
  "kernelspec": {
   "display_name": "Python 3",
   "language": "python",
   "name": "python3"
  },
  "language_info": {
   "codemirror_mode": {
    "name": "ipython",
    "version": 3
   },
   "file_extension": ".py",
   "mimetype": "text/x-python",
   "name": "python",
   "nbconvert_exporter": "python",
   "pygments_lexer": "ipython3",
   "version": "3.5.2"
  }
 },
 "nbformat": 4,
 "nbformat_minor": 2
}
